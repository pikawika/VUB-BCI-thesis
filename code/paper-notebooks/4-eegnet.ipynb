{
 "cells": [
  {
   "cell_type": "markdown",
   "id": "337221df",
   "metadata": {},
   "source": [
    "# EEGNet\n",
    "\n",
    "This notebook provides a modified reimplementation of the popular CNN-based EEG classifier: EEGNet by [Lawhern et al](http://iopscience.iop.org/article/10.1088/1741-2552/aace8c/meta).\n",
    "Most modifications include parameter changes to make it better suited for short-length windows as the original paper used input over 2 seconds long.\n",
    "The knowledge and utilities obtained from experimental notebooks six and seven are used throughout this notebook.\n",
    "\n",
    "This notebook works in an offline fashion and uses epochs with a length of 3 seconds.\n",
    "This epoch starts 1 second before the visual queue was given, includes the 1 second the visual queue was shown and ends 1 second after the visual queue was hidden, totalling 3 seconds.\n",
    "Baseline correction was done on the first second of the epoch, meaning the second before the visual queue was shown.\n",
    "The effective training and testing are done in a half-second window, starting 0.1 seconds after the start of the visual queue.\n",
    "A window of 0.5 seconds was chosen as it is a common size for sliding window approaches in online systems.\n",
    "\n",
    "\n",
    "Instructions on where to get the data are available on [the GitHub repository of the BCI master thesis project](https://www.github.com/pikawika/bci-master-thesis). These instructions are under `bci-master-thesis/code/data/CLA/README.md`. We will use the utility file `bci-master-thesis/code/utils/CLA_dataset.py` to work with this data. The data was stored as FIF files, which are included in [the GitHub repository of the BCI master thesis project](https://www.github.com/pikawika/bci-master-thesis)."
   ]
  },
  {
   "cell_type": "markdown",
   "id": "b5341c6d",
   "metadata": {},
   "source": [
    "<hr><hr>\n",
    "\n",
    "## Table of Contents\n",
    "\n",
    "- Checking requirements\n",
    "   - Correct Anaconda environment\n",
    "   - Correct module access\n",
    "   - Correct file access\n",
    "   - Checking TensorFlow support\n",
    "- Same subject, same session\n",
    "   - Results\n",
    "   - Longer window length \n",
    "- Same subject, new session\n",
    "   - Results\n",
    "   - Longer window length \n",
    "- New subject\n",
    "   - Results\n",
    "   - Longer window length"
   ]
  },
  {
   "cell_type": "markdown",
   "id": "292165d3",
   "metadata": {},
   "source": [
    "<hr><hr>\n",
    "\n",
    "## Checking requirements"
   ]
  },
  {
   "cell_type": "markdown",
   "id": "7f55ad17",
   "metadata": {},
   "source": [
    "### Correct Anaconda environment\n",
    "\n",
    "The `bci-master-thesis` Anaconda environment should be active to ensure proper support. Installation instructions are available on [the GitHub repository of the BCI master thesis project](https://www.github.com/pikawika/bci-master-thesis)."
   ]
  },
  {
   "cell_type": "code",
   "execution_count": 1,
   "id": "334d5fd4",
   "metadata": {},
   "outputs": [
    {
     "name": "stdout",
     "output_type": "stream",
     "text": [
      "Active environment: bci-master-thesis\n",
      "Correct environment: True\n",
      "\n",
      "Python version: 3.8.10\n",
      "Correct Python version: True\n"
     ]
    }
   ],
   "source": [
    "####################################################\n",
    "# CHECKING FOR RIGHT ANACONDA ENVIRONMENT\n",
    "####################################################\n",
    "\n",
    "import os\n",
    "from platform import python_version\n",
    "from pathlib import Path\n",
    "from copy import copy\n",
    "\n",
    "print(f\"Active environment: {os.environ['CONDA_DEFAULT_ENV']}\")\n",
    "print(f\"Correct environment: {os.environ['CONDA_DEFAULT_ENV'] == 'bci-master-thesis'}\")\n",
    "print(f\"\\nPython version: {python_version()}\")\n",
    "print(f\"Correct Python version: {python_version() == '3.8.10'}\")"
   ]
  },
  {
   "cell_type": "markdown",
   "id": "22166668",
   "metadata": {},
   "source": [
    "<hr>\n",
    "\n",
    "### Correct module access\n",
    "\n",
    "The following code block will load in all required modules."
   ]
  },
  {
   "cell_type": "code",
   "execution_count": 2,
   "id": "ab632204",
   "metadata": {},
   "outputs": [
    {
     "name": "stdout",
     "output_type": "stream",
     "text": [
      "MNE version (1.0.2 recommended): 1.0.2\n",
      "Numpy version (1.21.5 recommended): 1.21.5\n",
      "Pandas version (1.4.1 recommended): 1.4.1\n",
      "Scikit-learn version (1.0.2 recommended): 1.0.2\n",
      "TensorFlow version (2.8.0 recommended): 2.8.0\n",
      "Keras version (2.8.0 recommended): 2.8.0\n",
      "Pickle version (4.0 recommended): 4.0\n",
      "Matplotlib version (3.5.1 recommended): 3.5.1\n"
     ]
    }
   ],
   "source": [
    "####################################################\n",
    "# LOADING MODULES\n",
    "####################################################\n",
    "\n",
    "# allow reloading of libraries\n",
    "import importlib\n",
    "\n",
    "# Load util function file\n",
    "import sys\n",
    "sys.path.append('../utils')\n",
    "import CLA_dataset\n",
    "import TF_tools\n",
    "importlib.reload(CLA_dataset)\n",
    "importlib.reload(TF_tools)\n",
    "\n",
    "# IO functions\n",
    "from IPython.utils import io\n",
    "\n",
    "# Set logging level for MNE before loading MNE\n",
    "os.environ['MNE_LOGGING_LEVEL'] = 'WARNING'\n",
    "\n",
    "# Modules tailored for EEG data\n",
    "import mne; print(f\"MNE version (1.0.2 recommended): {mne.__version__}\")\n",
    "\n",
    "# EEGNet model\n",
    "import EEGModels\n",
    "from EEGModels import EEGNet\n",
    "\n",
    "# Data manipulation modules\n",
    "import numpy as np; print(f\"Numpy version (1.21.5 recommended): {np.__version__}\")\n",
    "import pandas as pd; print(f\"Pandas version (1.4.1 recommended): {pd.__version__}\")\n",
    "import copy\n",
    "\n",
    "# ML libraries\n",
    "import sklearn;  print(f\"Scikit-learn version (1.0.2 recommended): {sklearn.__version__}\")\n",
    "from sklearn.model_selection import train_test_split\n",
    "from sklearn.metrics import ConfusionMatrixDisplay, accuracy_score\n",
    "from sklearn.preprocessing import OneHotEncoder\n",
    "\n",
    "# Deep Learning libraries\n",
    "import tensorflow as tf;  print(f\"TensorFlow version (2.8.0 recommended): {tf.__version__}\")\n",
    "\n",
    "import keras; print(f\"Keras version (2.8.0 recommended): {keras.__version__}\")\n",
    "from keras.callbacks import ModelCheckpoint\n",
    "\n",
    "# Storing files\n",
    "import pickle;  print(f\"Pickle version (4.0 recommended): {pickle.format_version}\")\n",
    "\n",
    "# Plotting\n",
    "import matplotlib; print(f\"Matplotlib version (3.5.1 recommended): {matplotlib.__version__}\")\n",
    "import matplotlib.pyplot as plt"
   ]
  },
  {
   "cell_type": "markdown",
   "id": "813bb5de",
   "metadata": {},
   "source": [
    "<hr>\n",
    "\n",
    "### Correct file access\n",
    "\n",
    "As mentioned, this notebook uses a database provided by [Kaya et al](https://doi.org/10.1038/sdata.2018.211). The CLA dataset in particular. Instructions on where to get the data are available on [the GitHub repository of the BCI master thesis project](https://www.github.com/pikawika/bci-master-thesis). These instructions are under `bci-master-thesis/code/data/CLA/README.md`. The following code block checks if all required files are available."
   ]
  },
  {
   "cell_type": "code",
   "execution_count": 3,
   "id": "caa1d182",
   "metadata": {},
   "outputs": [
    {
     "name": "stdout",
     "output_type": "stream",
     "text": [
      "Full Matlab CLA file access: True\n",
      "Full MNE CLA file access: True\n"
     ]
    }
   ],
   "source": [
    "####################################################\n",
    "# CHECKING FILE ACCESS\n",
    "####################################################\n",
    "\n",
    "# Use util to determine if we have access\n",
    "print(\"Full Matlab CLA file access: \" + str(CLA_dataset.check_matlab_files_availability()))\n",
    "print(\"Full MNE CLA file access: \" + str(CLA_dataset.check_mne_files_availability()))"
   ]
  },
  {
   "cell_type": "markdown",
   "id": "43a71dde",
   "metadata": {},
   "source": [
    "<hr>\n",
    "\n",
    "### Checking TensorFlow support\n",
    "\n",
    "If you want to use TensorFlow with GPU acceleration, the below codeblock can help you gather insight.\n",
    "\n",
    "To launch the tensorboard use the following command in the `paper-notebooks` folder, be sure to have the right environments active:\n",
    "- Windows: `tensorboard --logdir=./logs/`\n",
    "- MacOS: `tensorboard --logdir='./logs/'`"
   ]
  },
  {
   "cell_type": "code",
   "execution_count": 4,
   "id": "8d8d50f9",
   "metadata": {},
   "outputs": [
    {
     "name": "stdout",
     "output_type": "stream",
     "text": [
      "There are 1 CPUs available under the names:\n",
      "[PhysicalDevice(name='/physical_device:CPU:0', device_type='CPU')]\n",
      "\n",
      "\n",
      "There are 1 GPUs available under the names:\n",
      "[PhysicalDevice(name='/physical_device:GPU:0', device_type='GPU')]\n"
     ]
    }
   ],
   "source": [
    "TF_tools.check_tf_cpu_gpu_presence()"
   ]
  },
  {
   "cell_type": "markdown",
   "id": "5fdad109",
   "metadata": {},
   "source": [
    "<hr><hr>\n",
    "\n",
    "## Same subject, same session\n",
    "\n",
    "As discussed in the master's thesis, training and testing a classification system can happen using multiple strategies.\n",
    "A classifier may be trained on a singular subject, using a singular session and testing on that same session.\n",
    "This is an over-optimistic testing scenario and has a great risk of overfitting with poor generalisation to new sessions or new subjects but can be an okay baseline test to see if *at least something* can be learned.\n",
    "Just like we did for the CSP approaches, we do this for the EEGNet model as well.\n",
    "\n",
    "\n",
    "This experiment works as follows:\n",
    "   - We use participants with at least three recordings\n",
    "      - Participants: B, C, E\n",
    "      - NOTE: participant F has three files provided but one of those files has only three MI classes rather than three, hence it is not considered here\n",
    "   - We use the last recorded session of each of these participants, thus the one where the participant has the most experience\n",
    "   - We get epochs of 3 seconds, which includes one second before and after the visual queue\n",
    "      - We use only a half a second window taking into account the online system will use sliding windows.\n",
    "      - This window starts at 0.1 seconds after then visual queue and ends at 0.6 seconds after the visual queue\n",
    "   - We split the data in a train/test dataset with 20% test data balanced over all MI classes\n",
    "   - We use the parameters for EEGNet as found in the experimental notebook `6-DL-based-classification.ipynb`:\n",
    "      - We input the raw data, which is not baseline corrected, but multiply it by 1000000 to combat the scaling that MNE does per default.\n",
    "         - This means that we only use the data from the window, so it is easier adoptable to a live setting.\n",
    "      - We used the modified EEGNet model provided through the `EEGModels.py` util file with the following settings:\n",
    "         - nb_classes = 3 (int, number of classes to classify)\n",
    "         - Chans = 21 (number of channels in the EEG dat)\n",
    "         - Samples = 100 (number of time points in the EEG data - default: 128)\n",
    "         - dropoutRate = 0.5 (dropout fraction - default: 0.5)\n",
    "         - kernLength = 50 (length of temporal convolution in first layer. Suggested: half the sampling rate - default: 64)\n",
    "         - F1 = 8 (number of temporal filters - default: 8)\n",
    "         - F2 = 16 (number of pointwise filters - default: 16)\n",
    "         - D = 2 (number of spatial filters to learn within each temporal convolution - default: 2)\n",
    "         - norm_rate = 0.25 (Normalisation rate - default: 0.25)\n",
    "         - dropoutType = 'SpatialDropout2D' (Either SpatialDropout2D or Dropout, passed as a string - default: Dropout)\n",
    "      - We trained for 2500 epochs, saving the best model based on best validation accuracy and validation loss (0.25 validation split - equal size as true test split)\n",
    "   - We record the validation accuracy and loss over time for monitoring the training and test on the seperate test set"
   ]
  },
  {
   "cell_type": "code",
   "execution_count": 5,
   "id": "ffd2eb11",
   "metadata": {
    "scrolled": true
   },
   "outputs": [],
   "source": [
    "####################################################\n",
    "# TRAINING EEGNET FOR EACH SUBJECT AND SESSION\n",
    "####################################################\n",
    "\n",
    "# Configure global parameters for all experiments\n",
    "subject_ids_to_test = [\"B\", \"C\", \"E\"] # Subjects with three recordings\n",
    "start_offset = -1 # One second before visual queue\n",
    "end_offset = 1 # One second after visual queue\n",
    "baseline = None # Baseline correction using data before the visual queue\n",
    "\n",
    "do_experiment = False # Long experiment disabled per default\n",
    "\n",
    "# Create the TensorFlow Keras model\n",
    "keras_eegnet_model = EEGNet(\n",
    "        nb_classes = 3, # int, number of classes to classify. \n",
    "        Chans = 21, # number of channels in the EEG data. \n",
    "        Samples = 100, # number of time points in the EEG data. (default: 128)\n",
    "        dropoutRate = 0.5, # dropout fraction. (default: 0.5)\n",
    "        kernLength = 50, # length of temporal convolution in first layer. Suggested: half the sampling rate. (default: 64)\n",
    "        F1 = 8, # number of temporal filters. (default: 8)\n",
    "        F2 = 16, # number of pointwise filters. (default: 16)\n",
    "        D = 2, # number of spatial filters to learn within each temporal convolution. (default: 2)\n",
    "        norm_rate = 0.25, # Normalisation rate. (default: 0.25)\n",
    "        dropoutType = 'SpatialDropout2D' # Either SpatialDropout2D or Dropout, passed as a string. (default: Dropout)\n",
    "        )\n",
    "\n",
    "if do_experiment:\n",
    "        # Loop over all subjects and perform the grid search for finding the best parameters\n",
    "        for subject_id in subject_ids_to_test:\n",
    "                print(\"\")\n",
    "                print(\"####################################################\")\n",
    "                print(f\"# TRAINING FOR SUBJECT {subject_id}\")\n",
    "                print(\"####################################################\")\n",
    "                print(\"\")\n",
    "                ###################### PREPARE DATA ######################\n",
    "                \n",
    "                with io.capture_output():\n",
    "                        # Get MNE raw object for latest recording of that subject\n",
    "                        mne_raw = CLA_dataset.get_last_raw_mne_data_for_subject(subject_id= subject_id)\n",
    "                        \n",
    "                        # Get epochs for that MNE raw\n",
    "                        mne_epochs = CLA_dataset.get_usefull_epochs_from_raw(mne_raw,\n",
    "                                                                             start_offset= start_offset,\n",
    "                                                                             end_offset= end_offset,\n",
    "                                                                             baseline= baseline)\n",
    "                        \n",
    "                        # Only keep epochs from the MI tasks\n",
    "                        mne_epochs = mne_epochs['task/neutral', 'task/left', 'task/right']\n",
    "                        \n",
    "                        # Load epochs into memory\n",
    "                        mne_epochs.load_data()\n",
    "                \n",
    "                # Get the labels\n",
    "                labels = mne_epochs.events[:, -1]\n",
    "                \n",
    "                # Convert the labels to OHE labels as needed for Keras\n",
    "                labels = labels.reshape(-1, 1)\n",
    "                ohe = OneHotEncoder()\n",
    "                labels = ohe.fit_transform(labels).toarray()\n",
    "                \n",
    "                # Get a half second window\n",
    "                mne_epochs_data = mne_epochs.get_data(tmin= 0.1, tmax= 0.6)\n",
    "                \n",
    "                # Fix scaling sensitivity as MNE stores as data * 10e-6\n",
    "                mne_epochs_data = mne_epochs_data * 1000000\n",
    "                \n",
    "                # Create a test and train split\n",
    "                X_train, X_test, y_train, y_test = train_test_split(mne_epochs_data,\n",
    "                                                                    labels,\n",
    "                                                                    test_size = 0.2,\n",
    "                                                                    shuffle= True,\n",
    "                                                                    stratify= labels,                                                    \n",
    "                                                                    random_state= 1998)\n",
    "                \n",
    "                # Store the train and test data so the best model can be retrained later\n",
    "                with open(f\"saved_variables/4/samesubject_samesession/subject{subject_id}/testdata-x.pickle\", 'wb') as file:\n",
    "                        pickle.dump(X_test, file)\n",
    "                with open(f\"saved_variables/4/samesubject_samesession/subject{subject_id}/testdata-y.pickle\", 'wb') as file:\n",
    "                        pickle.dump(y_test, file)\n",
    "                with open(f\"saved_variables/4/samesubject_samesession/subject{subject_id}/traindata-x.pickle\", 'wb') as file:\n",
    "                        pickle.dump(X_train, file)\n",
    "                with open(f\"saved_variables/4/samesubject_samesession/subject{subject_id}/traindata-y.pickle\", 'wb') as file:\n",
    "                        pickle.dump(y_train, file)\n",
    "                        \n",
    "                # Store the OHE encoder to enable same conversion later\n",
    "                with open(f\"saved_variables/4/samesubject_samesession/subject{subject_id}/ohe-encoder.pickle\", 'wb') as file:\n",
    "                        pickle.dump(ohe, file)\n",
    "                        \n",
    "                print(f\"Shape of all data (epochs, channels, samples): {np.shape(mne_epochs_data)}\")\n",
    "                print(f\"Shape of train data (epochs, channels, samples): {np.shape(X_train)}\")\n",
    "                print(f\"Shape of test data (epochs, channels, samples): {np.shape(X_test)}\")\n",
    "                \n",
    "                \n",
    "                ###################### PREPARE MODEL ######################\n",
    "                \n",
    "                # Names for model\n",
    "                best_base_model_filename = f\"saved_variables/4/samesubject_samesession/subject{subject_id}/trained_model\" \n",
    "                tensorboard_name = f\"paper-notebook4_eegnet_singlesession_subject{subject_id}\" # log name for tensorboard\n",
    "                \n",
    "                # Create copy of the model that needs training\n",
    "                trained_model = keras.models.clone_model(keras_eegnet_model)\n",
    "                \n",
    "                # Compile the model so it can be fitted (loss and optimizer from EEGNet paper)\n",
    "                trained_model.compile(loss = 'categorical_crossentropy', optimizer = 'adam', metrics=[\"accuracy\"])\n",
    "                \n",
    "                # Train model with GPU\n",
    "                # NOTE: change GPU to CPU if nog GPU present\n",
    "                with tf.device('/gpu:0'):\n",
    "                        history = trained_model.fit(\n",
    "                                x= X_train,\n",
    "                                y= y_train,\n",
    "                                batch_size= 128, # Default: 32\n",
    "                                epochs= 2500, # Default: 500 (EEGNet paper)\n",
    "                                verbose= 1, # 0 = silent, 1 = progress bar, 2 = one line per epoch\n",
    "                                callbacks= [TF_tools.tensorboard_callback(log_name= tensorboard_name),\n",
    "                                            TF_tools.lowest_loss_model_save_callback(filepath= best_base_model_filename),\n",
    "                                            TF_tools.highest_accuracy_model_save_callback(filepath= best_base_model_filename)],\n",
    "                                validation_split= 0.25,\n",
    "                                shuffle= True,\n",
    "                                sample_weight= None, # Can be interesting due to time series\n",
    "                                use_multiprocessing=True, # Done for faster speed\n",
    "                                workers= 4 # Done for faster speed\n",
    "                                )\n",
    "                        \n",
    "                # Store the fitting history\n",
    "                with open(f\"saved_variables/4/samesubject_samesession/subject{subject_id}/fitting_history.pickle\", 'wb') as file:\n",
    "                        pickle.dump(history.history, file)\n",
    "                \n",
    "                # Delete vars after singular experiment\n",
    "                del mne_raw\n",
    "                del mne_epochs\n",
    "                del mne_epochs_data\n",
    "                del trained_model\n",
    "                del best_base_model_filename\n",
    "                del tensorboard_name\n",
    "                del labels\n",
    "                del file\n",
    "                del history\n",
    "                del X_train\n",
    "                del X_test\n",
    "                del ohe\n",
    "                del y_train\n",
    "                del y_test\n",
    "    \n",
    "        # Delete vars after all experiments\n",
    "        del subject_id\n",
    "        \n",
    "# Del global vars\n",
    "del subject_ids_to_test\n",
    "del baseline\n",
    "del do_experiment\n",
    "del end_offset\n",
    "del start_offset\n",
    "del keras_eegnet_model"
   ]
  },
  {
   "cell_type": "markdown",
   "id": "d8b2d360",
   "metadata": {},
   "source": [
    "#### Results\n",
    "\n",
    "| **Subject** | **EEGNet: best validation accuracy** | **EEGNet: best validation loss** | **EEGNet: test split accuracy (best acc model)** | **EEGNet: test split accuracy (best loss model)** |\n",
    "|-------------|--------------------------------------|----------------------------------|--------------------------------------------------|---------------------------------------------------|\n",
    "| B           | 0.8333 @ epoch 1262                  | 0.4747 @ epoch 1959              | 0.7656                                           | 0.7708                                            |\n",
    "| C           | 0.9167 @ epoch 2497                  | 0.3088 @ epoch 1653              | 0.8906                                           | 0.8906                                            |\n",
    "| E           | 0.9215 @ epoch 1010                  | 0.2724 @ epoch 981               | 0.8586                                           | 0.8691                                            |\n",
    "\n",
    "The training plots are given below.\n",
    "B is dark blue, C is light blue and E is light green.\n",
    "Convergence is already reached after 500 epochs.\n",
    "\n",
    "![Accuracy plot](figures/4/samesubject_samesession/accuracy.png)\n",
    "![Loss plot](figures/4/samesubject_samesession/loss.png)"
   ]
  },
  {
   "cell_type": "code",
   "execution_count": 6,
   "id": "3e13b5b4",
   "metadata": {
    "scrolled": false
   },
   "outputs": [
    {
     "name": "stdout",
     "output_type": "stream",
     "text": [
      "\n",
      "####################################################\n",
      "# RESULTS FOR SUBJECT B\n",
      "####################################################\n",
      "\n",
      "#### results of training ####\n",
      "Best training accuracy (max) 0.8854 @ epoch 2343\n",
      "Best training loss (min) 0.3512 @ epoch 2303\n",
      "\n",
      "Best validation accuracy (max) 0.8333 @ epoch 1262\n",
      "Best validation loss (min) 0.4747 @ epoch 1959\n",
      "\n",
      "#### results for highest accuracy model ####\n",
      "Accuracy of: 0.7656\n"
     ]
    },
    {
     "data": {
      "image/png": "[encoded data removed]",
      "text/plain": [
       "<Figure size 432x288 with 2 Axes>"
      ]
     },
     "metadata": {
      "needs_background": "light"
     },
     "output_type": "display_data"
    },
    {
     "name": "stdout",
     "output_type": "stream",
     "text": [
      "\n",
      "#### results for lowest loss model ####\n",
      "Accuracy of: 0.7708\n"
     ]
    },
    {
     "data": {
      "image/png": "[encoded data removed]",
      "text/plain": [
       "<Figure size 432x288 with 2 Axes>"
      ]
     },
     "metadata": {
      "needs_background": "light"
     },
     "output_type": "display_data"
    },
    {
     "name": "stdout",
     "output_type": "stream",
     "text": [
      "\n",
      "####################################################\n",
      "# RESULTS FOR SUBJECT C\n",
      "####################################################\n",
      "\n",
      "#### results of training ####\n",
      "Best training accuracy (max) 0.9617 @ epoch 2377\n",
      "Best training loss (min) 0.1513 @ epoch 1808\n",
      "\n",
      "Best validation accuracy (max) 0.9167 @ epoch 2497\n",
      "Best validation loss (min) 0.3088 @ epoch 1653\n",
      "\n",
      "#### results for highest accuracy model ####\n",
      "Accuracy of: 0.8906\n"
     ]
    },
    {
     "data": {
      "image/png": "[encoded data removed]",
      "text/plain": [
       "<Figure size 432x288 with 2 Axes>"
      ]
     },
     "metadata": {
      "needs_background": "light"
     },
     "output_type": "display_data"
    },
    {
     "name": "stdout",
     "output_type": "stream",
     "text": [
      "\n",
      "#### results for lowest loss model ####\n",
      "Accuracy of: 0.8906\n"
     ]
    },
    {
     "data": {
      "image/png": "[encoded data removed]",
      "text/plain": [
       "<Figure size 432x288 with 2 Axes>"
      ]
     },
     "metadata": {
      "needs_background": "light"
     },
     "output_type": "display_data"
    },
    {
     "name": "stdout",
     "output_type": "stream",
     "text": [
      "\n",
      "####################################################\n",
      "# RESULTS FOR SUBJECT E\n",
      "####################################################\n",
      "\n",
      "#### results of training ####\n",
      "Best training accuracy (max) 0.9529 @ epoch 2186\n",
      "Best training loss (min) 0.1672 @ epoch 2412\n",
      "\n",
      "Best validation accuracy (max) 0.9215 @ epoch 1010\n",
      "Best validation loss (min) 0.2724 @ epoch 981\n",
      "\n",
      "#### results for highest accuracy model ####\n",
      "Accuracy of: 0.8586\n"
     ]
    },
    {
     "data": {
      "image/png": "[encoded data removed]",
      "text/plain": [
       "<Figure size 432x288 with 2 Axes>"
      ]
     },
     "metadata": {
      "needs_background": "light"
     },
     "output_type": "display_data"
    },
    {
     "name": "stdout",
     "output_type": "stream",
     "text": [
      "\n",
      "#### results for lowest loss model ####\n",
      "Accuracy of: 0.8691\n"
     ]
    },
    {
     "data": {
      "image/png": "[encoded data removed]",
      "text/plain": [
       "<Figure size 432x288 with 2 Axes>"
      ]
     },
     "metadata": {
      "needs_background": "light"
     },
     "output_type": "display_data"
    }
   ],
   "source": [
    "####################################################\n",
    "# RESULTS\n",
    "####################################################\n",
    "\n",
    "# Configure global parameters for all experiments\n",
    "subject_ids_to_test = [\"B\", \"C\", \"E\"] # Subjects with three recordings\n",
    "\n",
    "# Loop over all found results\n",
    "for subject_id in subject_ids_to_test:\n",
    "    print()\n",
    "    print(\"####################################################\")\n",
    "    print(f\"# RESULTS FOR SUBJECT {subject_id}\")\n",
    "    print(\"####################################################\")\n",
    "    print()\n",
    "    \n",
    "    ################### load data ###################\n",
    "    # Names for model\n",
    "    best_base_model_filename = f\"saved_variables/4/samesubject_samesession/subject{subject_id}/trained_model\"\n",
    "    \n",
    "    # Open models from file\n",
    "    lowest_loss_model = TF_tools.load_lowest_loss_model(filepath= best_base_model_filename)\n",
    "    highest_accuracy_model = TF_tools.load_highest_accuracy_model(filepath= best_base_model_filename)\n",
    "    \n",
    "    # Get data from files\n",
    "    with open(f\"saved_variables/4/samesubject_samesession/subject{subject_id}/testdata-x.pickle\", 'rb') as f:\n",
    "        X_test = pickle.load(f)\n",
    "    with open(f\"saved_variables/4/samesubject_samesession/subject{subject_id}/testdata-y.pickle\", 'rb') as f:\n",
    "        y_test = pickle.load(f)\n",
    "        \n",
    "    # Get OHE from file\n",
    "    with open(f\"saved_variables/4/samesubject_samesession/subject{subject_id}/ohe-encoder.pickle\", 'rb') as f:\n",
    "        ohe = pickle.load(f)\n",
    "        \n",
    "    # Get history from file\n",
    "    with open(f\"saved_variables/4/samesubject_samesession/subject{subject_id}/fitting_history.pickle\", 'rb') as f:\n",
    "        history = pickle.load(f)\n",
    "        \n",
    "    # Convert OHE labels back to true labels\n",
    "    y_test = ohe.inverse_transform(y_test)\n",
    "    \n",
    "    ################### history stats ###################\n",
    "    print(\"#### results of training ####\")\n",
    "    print(f\"Best training accuracy (max) {np.round(np.max(history['accuracy']), 4)} @ epoch {np.argmax(history['accuracy']) + 1}\")\n",
    "    print(f\"Best training loss (min) {np.round(np.min(history['loss']), 4)} @ epoch {np.argmin(history['loss']) + 1}\")\n",
    "    print()\n",
    "    print(f\"Best validation accuracy (max) {np.round(np.max(history['val_accuracy']), 4)} @ epoch {np.argmax(history['val_accuracy']) + 1}\")\n",
    "    print(f\"Best validation loss (min) {np.round(np.min(history['val_loss']), 4)} @ epoch {np.argmin(history['val_loss']) + 1}\")\n",
    "    \n",
    "    ################### highest accuracy model ###################\n",
    "    print(\"\\n#### results for highest accuracy model ####\")\n",
    "    # Get predictions from lowest loss model and convert back to labels\n",
    "    y_pred = highest_accuracy_model.predict(X_test)\n",
    "    y_pred = ohe.inverse_transform(y_pred)\n",
    "    \n",
    "    # Get accuracy score and print it\n",
    "    accuracy =  accuracy_score(y_test, y_pred)\n",
    "    print(f\"Accuracy of: {np.round(accuracy, 4)}\")\n",
    "    \n",
    "    # Show CM\n",
    "    ConfusionMatrixDisplay.from_predictions(y_true= y_test, y_pred= y_pred)\n",
    "    plt.show()\n",
    "    \n",
    "    ################### lowest loss model ###################\n",
    "    print(\"\\n#### results for lowest loss model ####\")\n",
    "    # Get predictions from lowest loss model and convert back to labels\n",
    "    y_pred = lowest_loss_model.predict(X_test)\n",
    "    y_pred = ohe.inverse_transform(y_pred)\n",
    "    \n",
    "    # Get accuracy score and print it\n",
    "    accuracy =  accuracy_score(y_test, y_pred)\n",
    "    print(f\"Accuracy of: {np.round(accuracy, 4)}\")\n",
    "    \n",
    "    # Show CM\n",
    "    ConfusionMatrixDisplay.from_predictions(y_true= y_test, y_pred= y_pred)\n",
    "    plt.show()\n",
    "    \n",
    "    ################### cleanup ###################\n",
    "    # remove unused vars\n",
    "    del best_base_model_filename\n",
    "    del lowest_loss_model\n",
    "    del highest_accuracy_model\n",
    "    del f\n",
    "    del X_test\n",
    "    del y_test\n",
    "    del history\n",
    "    del ohe\n",
    "    del y_pred\n",
    "    del accuracy\n",
    "\n",
    "# Remove unsused variables\n",
    "del subject_ids_to_test\n",
    "del subject_id"
   ]
  },
  {
   "cell_type": "markdown",
   "id": "8e3c4f90",
   "metadata": {},
   "source": [
    "### Longer window length\n",
    "\n",
    "An experiment was performed where the window size was changed to 1.5 seconds.\n",
    "This is done by including 0.25 seconds before and after the queue is shown, totalling 0.25 + 1 + 0.25 = 1.5 seconds.\n",
    "The following parameters were changed:\n",
    "- Samples = 300 (from 100)\n",
    "- kernLength = 150 (from 50)\n",
    "- F1 = 16 (from 8)\n",
    "- F2 = 32 (from 16)\n",
    "- D = 4 (from 2)\n",
    "\n",
    "The performed experiment is equal besides this.\n",
    "The following results were obtained:\n",
    "\n",
    "| **Subject** | **EEGNet: best validation accuracy** | **EEGNet: best validation loss** | **EEGNet: test split accuracy (best acc model)** | **EEGNet: test split accuracy (best loss model)** |\n",
    "|-------------|--------------------------------------|----------------------------------|--------------------------------------------------|---------------------------------------------------|\n",
    "| B           | 0.8802 @ epoch 383                   | 0.3736 @ epoch 632               | 0.7708                                           | 0.7812                                            |\n",
    "| C           | 0.9479 @ epoch 2290                  | 0.2454 @ epoch 1094              | 0.9531                                           | 0.9375                                            |\n",
    "| E           | 0.9529 @ epoch 896                   | 0.1631 @ epoch 1224              | 0.9319                                           | 0.9215                                            |\n",
    "\n",
    "Whilst the accuracy improved for the test set significantly for subject C and E, the added complexity and overfitting tendencies is something that should be taken into account when working with longer windows.\n",
    "\n",
    "The training plots are given below.\n",
    "B is dark blue, C is light blue and E is green.\n",
    "Convergence takes more time but is still achieved under 1000 epochs and it becomes apparent that there are now signs of overfitting with divergence occurring.\n",
    "\n",
    "![Accuracy plot](figures/4/samesubject_samesession_longer_window/accuracy.png)\n",
    "![Loss plot](figures/4/samesubject_samesession_longer_window/loss.png)"
   ]
  },
  {
   "cell_type": "code",
   "execution_count": 7,
   "id": "53eecdef",
   "metadata": {},
   "outputs": [],
   "source": [
    "####################################################\n",
    "# TRAINING EEGNET FOR EACH SUBJECT AND SESSION\n",
    "####################################################\n",
    "\n",
    "# Configure global parameters for all experiments\n",
    "subject_ids_to_test = [\"B\", \"C\", \"E\"] # Subjects with three recordings\n",
    "start_offset = -1 # One second before visual queue\n",
    "end_offset = 1 # One second after visual queue\n",
    "baseline = None # Baseline correction using data before the visual queue\n",
    "\n",
    "do_experiment = False # Long experiment disabled per default\n",
    "\n",
    "# Create the TensorFlow Keras model\n",
    "keras_eegnet_model = EEGNet(\n",
    "        nb_classes = 3, # int, number of classes to classify. \n",
    "        Chans = 21, # number of channels in the EEG data. \n",
    "        Samples = 300, # number of time points in the EEG data. (default: 128)\n",
    "        dropoutRate = 0.5, # dropout fraction. (default: 0.5)\n",
    "        kernLength = 150, # length of temporal convolution in first layer. Suggested: half the sampling rate. (default: 64)\n",
    "        F1 = 16, # number of temporal filters. (default: 8)\n",
    "        F2 = 32, # number of pointwise filters. (default: 16)\n",
    "        D = 4, # number of spatial filters to learn within each temporal convolution. (default: 2)\n",
    "        norm_rate = 0.25, # Normalisation rate. (default: 0.25)\n",
    "        dropoutType = 'SpatialDropout2D' # Either SpatialDropout2D or Dropout, passed as a string. (default: Dropout)\n",
    "        )\n",
    "\n",
    "if do_experiment:\n",
    "        # Loop over all subjects and perform the grid search for finding the best parameters\n",
    "        for subject_id in subject_ids_to_test:\n",
    "                print(\"\")\n",
    "                print(\"####################################################\")\n",
    "                print(f\"# TRAINING FOR SUBJECT {subject_id}\")\n",
    "                print(\"####################################################\")\n",
    "                print(\"\")\n",
    "                ###################### PREPARE DATA ######################\n",
    "                \n",
    "                with io.capture_output():\n",
    "                        # Get MNE raw object for latest recording of that subject\n",
    "                        mne_raw = CLA_dataset.get_last_raw_mne_data_for_subject(subject_id= subject_id)\n",
    "                        \n",
    "                        # Get epochs for that MNE raw\n",
    "                        mne_epochs = CLA_dataset.get_usefull_epochs_from_raw(mne_raw,\n",
    "                                                                             start_offset= start_offset,\n",
    "                                                                             end_offset= end_offset,\n",
    "                                                                             baseline= baseline)\n",
    "                        \n",
    "                        # Only keep epochs from the MI tasks\n",
    "                        mne_epochs = mne_epochs['task/neutral', 'task/left', 'task/right']\n",
    "                        \n",
    "                        # Load epochs into memory\n",
    "                        mne_epochs.load_data()\n",
    "                \n",
    "                # Get the labels\n",
    "                labels = mne_epochs.events[:, -1]\n",
    "                \n",
    "                # Convert the labels to OHE labels as needed for Keras\n",
    "                labels = labels.reshape(-1, 1)\n",
    "                ohe = OneHotEncoder()\n",
    "                labels = ohe.fit_transform(labels).toarray()\n",
    "                \n",
    "                # Get a 1.5 second window\n",
    "                mne_epochs_data = mne_epochs.get_data(tmin= -0.25, tmax= 1.25)\n",
    "                \n",
    "                # Fix scaling sensitivity as MNE stores as data * 10e-6\n",
    "                mne_epochs_data = mne_epochs_data * 1000000\n",
    "                \n",
    "                # Create a test and train split\n",
    "                X_train, X_test, y_train, y_test = train_test_split(mne_epochs_data,\n",
    "                                                                    labels,\n",
    "                                                                    test_size = 0.2,\n",
    "                                                                    shuffle= True,\n",
    "                                                                    stratify= labels,                                                    \n",
    "                                                                    random_state= 1998)\n",
    "                \n",
    "                # Store the train and test data so the best model can be retrained later\n",
    "                with open(f\"saved_variables/4/samesubject_samesession_longer_window/subject{subject_id}/testdata-x.pickle\", 'wb') as file:\n",
    "                        pickle.dump(X_test, file)\n",
    "                with open(f\"saved_variables/4/samesubject_samesession_longer_window/subject{subject_id}/testdata-y.pickle\", 'wb') as file:\n",
    "                        pickle.dump(y_test, file)\n",
    "                with open(f\"saved_variables/4/samesubject_samesession_longer_window/subject{subject_id}/traindata-x.pickle\", 'wb') as file:\n",
    "                        pickle.dump(X_train, file)\n",
    "                with open(f\"saved_variables/4/samesubject_samesession_longer_window/subject{subject_id}/traindata-y.pickle\", 'wb') as file:\n",
    "                        pickle.dump(y_train, file)\n",
    "                        \n",
    "                # Store the OHE encoder to enable same conversion later\n",
    "                with open(f\"saved_variables/4/samesubject_samesession_longer_window/subject{subject_id}/ohe-encoder.pickle\", 'wb') as file:\n",
    "                        pickle.dump(ohe, file)\n",
    "                        \n",
    "                print(f\"Shape of all data (epochs, channels, samples): {np.shape(mne_epochs_data)}\")\n",
    "                print(f\"Shape of train data (epochs, channels, samples): {np.shape(X_train)}\")\n",
    "                print(f\"Shape of test data (epochs, channels, samples): {np.shape(X_test)}\")\n",
    "                \n",
    "                \n",
    "                ###################### PREPARE MODEL ######################\n",
    "                \n",
    "                # Names for model\n",
    "                best_base_model_filename = f\"saved_variables/4/samesubject_samesession_longer_window/subject{subject_id}/trained_model\" \n",
    "                tensorboard_name = f\"paper-notebook4_eegnet_singlesession_longer_window_subject{subject_id}\" # log name for tensorboard\n",
    "                \n",
    "                # Create copy of the model that needs training\n",
    "                trained_model = keras.models.clone_model(keras_eegnet_model)\n",
    "                \n",
    "                # Compile the model so it can be fitted (loss and optimizer from EEGNet paper)\n",
    "                trained_model.compile(loss = 'categorical_crossentropy', optimizer = 'adam', metrics=[\"accuracy\"])\n",
    "                \n",
    "                # Train model with GPU\n",
    "                # NOTE: change GPU to CPU if nog GPU present\n",
    "                with tf.device('/gpu:0'):\n",
    "                        history = trained_model.fit(\n",
    "                                x= X_train,\n",
    "                                y= y_train,\n",
    "                                batch_size= 128, # Default: 32\n",
    "                                epochs= 2500, # Default: 500 (EEGNet paper)\n",
    "                                verbose= 1, # 0 = silent, 1 = progress bar, 2 = one line per epoch\n",
    "                                callbacks= [TF_tools.tensorboard_callback(log_name= tensorboard_name),\n",
    "                                            TF_tools.lowest_loss_model_save_callback(filepath= best_base_model_filename),\n",
    "                                            TF_tools.highest_accuracy_model_save_callback(filepath= best_base_model_filename)],\n",
    "                                validation_split= 0.25,\n",
    "                                shuffle= True,\n",
    "                                sample_weight= None, # Can be interesting due to time series\n",
    "                                use_multiprocessing=True, # Done for faster speed\n",
    "                                workers= 4 # Done for faster speed\n",
    "                                )\n",
    "                        \n",
    "                # Store the fitting history\n",
    "                with open(f\"saved_variables/4/samesubject_samesession_longer_window/subject{subject_id}/fitting_history.pickle\", 'wb') as file:\n",
    "                        pickle.dump(history.history, file)\n",
    "                \n",
    "                # Delete vars after singular experiment\n",
    "                del mne_raw\n",
    "                del mne_epochs\n",
    "                del mne_epochs_data\n",
    "                del trained_model\n",
    "                del best_base_model_filename\n",
    "                del tensorboard_name\n",
    "                del labels\n",
    "                del file\n",
    "                del history\n",
    "                del X_train\n",
    "                del X_test\n",
    "                del ohe\n",
    "                del y_train\n",
    "                del y_test\n",
    "    \n",
    "        # Delete vars after all experiments\n",
    "        del subject_id\n",
    "        \n",
    "# Del global vars\n",
    "del subject_ids_to_test\n",
    "del baseline\n",
    "del do_experiment\n",
    "del end_offset\n",
    "del start_offset\n",
    "del keras_eegnet_model"
   ]
  },
  {
   "cell_type": "code",
   "execution_count": 8,
   "id": "f2b324f8",
   "metadata": {
    "scrolled": false
   },
   "outputs": [
    {
     "name": "stdout",
     "output_type": "stream",
     "text": [
      "\n",
      "####################################################\n",
      "# RESULTS FOR SUBJECT B\n",
      "####################################################\n",
      "\n",
      "#### results of training ####\n",
      "Best training accuracy (max) 0.9965 @ epoch 2356\n",
      "Best training loss (min) 0.041 @ epoch 2430\n",
      "\n",
      "Best validation accuracy (max) 0.8802 @ epoch 383\n",
      "Best validation loss (min) 0.3736 @ epoch 632\n",
      "\n",
      "#### results for highest accuracy model ####\n",
      "Accuracy of: 0.7708\n"
     ]
    },
    {
     "data": {
      "image/png": "[encoded data removed]",
      "text/plain": [
       "<Figure size 432x288 with 2 Axes>"
      ]
     },
     "metadata": {
      "needs_background": "light"
     },
     "output_type": "display_data"
    },
    {
     "name": "stdout",
     "output_type": "stream",
     "text": [
      "\n",
      "#### results for lowest loss model ####\n",
      "Accuracy of: 0.7812\n"
     ]
    },
    {
     "data": {
      "image/png": "[encoded data removed]",
      "text/plain": [
       "<Figure size 432x288 with 2 Axes>"
      ]
     },
     "metadata": {
      "needs_background": "light"
     },
     "output_type": "display_data"
    },
    {
     "name": "stdout",
     "output_type": "stream",
     "text": [
      "\n",
      "####################################################\n",
      "# RESULTS FOR SUBJECT C\n",
      "####################################################\n",
      "\n",
      "#### results of training ####\n",
      "Best training accuracy (max) 1.0 @ epoch 1033\n",
      "Best training loss (min) 0.0067 @ epoch 2470\n",
      "\n",
      "Best validation accuracy (max) 0.9479 @ epoch 2290\n",
      "Best validation loss (min) 0.2454 @ epoch 1094\n",
      "\n",
      "#### results for highest accuracy model ####\n",
      "Accuracy of: 0.9531\n"
     ]
    },
    {
     "data": {
      "image/png": "[encoded data removed]",
      "text/plain": [
       "<Figure size 432x288 with 2 Axes>"
      ]
     },
     "metadata": {
      "needs_background": "light"
     },
     "output_type": "display_data"
    },
    {
     "name": "stdout",
     "output_type": "stream",
     "text": [
      "\n",
      "#### results for lowest loss model ####\n",
      "Accuracy of: 0.9375\n"
     ]
    },
    {
     "data": {
      "image/png": "[encoded data removed]",
      "text/plain": [
       "<Figure size 432x288 with 2 Axes>"
      ]
     },
     "metadata": {
      "needs_background": "light"
     },
     "output_type": "display_data"
    },
    {
     "name": "stdout",
     "output_type": "stream",
     "text": [
      "\n",
      "####################################################\n",
      "# RESULTS FOR SUBJECT E\n",
      "####################################################\n",
      "\n",
      "#### results of training ####\n",
      "Best training accuracy (max) 1.0 @ epoch 1784\n",
      "Best training loss (min) 0.0123 @ epoch 2389\n",
      "\n",
      "Best validation accuracy (max) 0.9529 @ epoch 896\n",
      "Best validation loss (min) 0.1631 @ epoch 1224\n",
      "\n",
      "#### results for highest accuracy model ####\n",
      "Accuracy of: 0.9319\n"
     ]
    },
    {
     "data": {
      "image/png": "[encoded data removed]",
      "text/plain": [
       "<Figure size 432x288 with 2 Axes>"
      ]
     },
     "metadata": {
      "needs_background": "light"
     },
     "output_type": "display_data"
    },
    {
     "name": "stdout",
     "output_type": "stream",
     "text": [
      "\n",
      "#### results for lowest loss model ####\n",
      "Accuracy of: 0.9215\n"
     ]
    },
    {
     "data": {
      "image/png": "[encoded data removed]",
      "text/plain": [
       "<Figure size 432x288 with 2 Axes>"
      ]
     },
     "metadata": {
      "needs_background": "light"
     },
     "output_type": "display_data"
    }
   ],
   "source": [
    "####################################################\n",
    "# RESULTS\n",
    "####################################################\n",
    "\n",
    "# Configure global parameters for all experiments\n",
    "subject_ids_to_test = [\"B\", \"C\", \"E\"] # Subjects with three recordings\n",
    "\n",
    "# Loop over all found results\n",
    "for subject_id in subject_ids_to_test:\n",
    "    print()\n",
    "    print(\"####################################################\")\n",
    "    print(f\"# RESULTS FOR SUBJECT {subject_id}\")\n",
    "    print(\"####################################################\")\n",
    "    print()\n",
    "    \n",
    "    ################### load data ###################\n",
    "    # Names for model\n",
    "    best_base_model_filename = f\"saved_variables/4/samesubject_samesession_longer_window/subject{subject_id}/trained_model\"\n",
    "    \n",
    "    # Open models from file\n",
    "    lowest_loss_model = TF_tools.load_lowest_loss_model(filepath= best_base_model_filename)\n",
    "    highest_accuracy_model = TF_tools.load_highest_accuracy_model(filepath= best_base_model_filename)\n",
    "    \n",
    "    # Get data from files\n",
    "    with open(f\"saved_variables/4/samesubject_samesession_longer_window/subject{subject_id}/testdata-x.pickle\", 'rb') as f:\n",
    "        X_test = pickle.load(f)\n",
    "    with open(f\"saved_variables/4/samesubject_samesession_longer_window/subject{subject_id}/testdata-y.pickle\", 'rb') as f:\n",
    "        y_test = pickle.load(f)\n",
    "        \n",
    "    # Get OHE from file\n",
    "    with open(f\"saved_variables/4/samesubject_samesession_longer_window/subject{subject_id}/ohe-encoder.pickle\", 'rb') as f:\n",
    "        ohe = pickle.load(f)\n",
    "        \n",
    "    # Get history from file\n",
    "    with open(f\"saved_variables/4/samesubject_samesession_longer_window/subject{subject_id}/fitting_history.pickle\", 'rb') as f:\n",
    "        history = pickle.load(f)\n",
    "        \n",
    "    # Convert OHE labels back to true labels\n",
    "    y_test = ohe.inverse_transform(y_test)\n",
    "    \n",
    "    ################### history stats ###################\n",
    "    print(\"#### results of training ####\")\n",
    "    print(f\"Best training accuracy (max) {np.round(np.max(history['accuracy']), 4)} @ epoch {np.argmax(history['accuracy']) + 1}\")\n",
    "    print(f\"Best training loss (min) {np.round(np.min(history['loss']), 4)} @ epoch {np.argmin(history['loss']) + 1}\")\n",
    "    print()\n",
    "    print(f\"Best validation accuracy (max) {np.round(np.max(history['val_accuracy']), 4)} @ epoch {np.argmax(history['val_accuracy']) + 1}\")\n",
    "    print(f\"Best validation loss (min) {np.round(np.min(history['val_loss']), 4)} @ epoch {np.argmin(history['val_loss']) + 1}\")\n",
    "    \n",
    "    ################### highest accuracy model ###################\n",
    "    print(\"\\n#### results for highest accuracy model ####\")\n",
    "    # Get predictions from lowest loss model and convert back to labels\n",
    "    y_pred = highest_accuracy_model.predict(X_test)\n",
    "    y_pred = ohe.inverse_transform(y_pred)\n",
    "    \n",
    "    # Get accuracy score and print it\n",
    "    accuracy =  accuracy_score(y_test, y_pred)\n",
    "    print(f\"Accuracy of: {np.round(accuracy, 4)}\")\n",
    "    \n",
    "    # Show CM\n",
    "    ConfusionMatrixDisplay.from_predictions(y_true= y_test, y_pred= y_pred)\n",
    "    plt.show()\n",
    "    \n",
    "    ################### lowest loss model ###################\n",
    "    print(\"\\n#### results for lowest loss model ####\")\n",
    "    # Get predictions from lowest loss model and convert back to labels\n",
    "    y_pred = lowest_loss_model.predict(X_test)\n",
    "    y_pred = ohe.inverse_transform(y_pred)\n",
    "    \n",
    "    # Get accuracy score and print it\n",
    "    accuracy =  accuracy_score(y_test, y_pred)\n",
    "    print(f\"Accuracy of: {np.round(accuracy, 4)}\")\n",
    "    \n",
    "    # Show CM\n",
    "    ConfusionMatrixDisplay.from_predictions(y_true= y_test, y_pred= y_pred)\n",
    "    plt.show()\n",
    "    \n",
    "    ################### cleanup ###################\n",
    "    # remove unused vars\n",
    "    del best_base_model_filename\n",
    "    del lowest_loss_model\n",
    "    del highest_accuracy_model\n",
    "    del f\n",
    "    del X_test\n",
    "    del y_test\n",
    "    del history\n",
    "    del ohe\n",
    "    del y_pred\n",
    "    del accuracy\n",
    "\n",
    "# Remove unsused variables\n",
    "del subject_ids_to_test\n",
    "del subject_id"
   ]
  },
  {
   "cell_type": "markdown",
   "id": "e0943105",
   "metadata": {},
   "source": [
    "<hr><hr>\n",
    "\n",
    "## Same subject, new session\n",
    "\n",
    "As discussed in the master's thesis, training and testing a classification system can happen using multiple strategies.\n",
    "A classifier may be trained on a singular subject, but by using one or more sessions for training and testing on a new, unseen session.\n",
    "This is a harder task than the previous one, where training and testing were done for the same session.\n",
    "This section will train the same classifiers for the same participants as before but by using the first two datasets as training data and the third and final session of each participant as a standalone test set which is not used in training.\n",
    "\n",
    "This experiment works as follows:\n",
    "   - We use participants with at least three recordings\n",
    "      - Participants: B, C, E\n",
    "      - NOTE: participant F has three files provided but one of those files has only three MI classes rather than three, hence it is not considered here\n",
    "   - We use the first two recorded session of each of these participants for training and the last for testing.\n",
    "      - Thus, the CV scores are on the test split for the training data whilst the independent test set is from the unseen session not used during training. This avoids data leakage.\n",
    "   - We get epochs of 3 seconds, which includes one second before and after the visual queue\n",
    "      - We use only a half a second window taking into account the online system will use sliding windows.\n",
    "      - This window starts at 0.1 seconds after then visual queue and ends at 0.6 seconds after the visual queue\n",
    "   - We use the parameters for EEGNet as found in the experimental notebook `6-DL-based-classification.ipynb`:\n",
    "      - We input the raw data, which is not baseline corrected, but multiply it by 1000000 to combat the scaling that MNE does per default.\n",
    "         - This means that we only use the data from the window, so it is easier adoptable to a live setting.\n",
    "      - We used the modified EEGNet model provided through the `EEGModels.py` util file with the following settings:\n",
    "         - nb_classes = 3 (int, number of classes to classify)\n",
    "         - Chans = 21 (number of channels in the EEG dat)\n",
    "         - Samples = 100 (number of time points in the EEG data - default: 128)\n",
    "         - dropoutRate = 0.5 (dropout fraction - default: 0.5)\n",
    "         - kernLength = 50 (length of temporal convolution in first layer. Suggested: half the sampling rate - default: 64)\n",
    "         - F1 = 8 (number of temporal filters - default: 8)\n",
    "         - F2 = 16 (number of pointwise filters - default: 16)\n",
    "         - D = 2 (number of spatial filters to learn within each temporal convolution - default: 2)\n",
    "         - norm_rate = 0.25 (Normalisation rate - default: 0.25)\n",
    "         - dropoutType = 'SpatialDropout2D' (Either SpatialDropout2D or Dropout, passed as a string - default: Dropout)\n",
    "      - We trained for 2500 epochs, saving the best model based on best validation accuracy and validation loss (0.25 validation split - equal size as true test split)\n",
    "   - We record the validation accuracy and loss over time for monitoring the training and test on the seperate test set\n",
    "\n"
   ]
  },
  {
   "cell_type": "code",
   "execution_count": 11,
   "id": "cd2ab110",
   "metadata": {},
   "outputs": [],
   "source": [
    "####################################################\n",
    "# TRAINING EEGNET ON EACH SUBJECT AND TWO SESSIONS\n",
    "####################################################\n",
    "\n",
    "# Configure global parameters for all experiments\n",
    "subject_ids_to_test = [\"B\", \"C\", \"E\"] # Subjects with three recordings\n",
    "start_offset = -1 # One second before visual queue\n",
    "end_offset = 1 # One second after visual queue\n",
    "baseline = None # Baseline correction using data before the visual queue\n",
    "\n",
    "do_experiment = False # Long experiment disabled per default\n",
    "\n",
    "# Create the TensorFlow Keras model\n",
    "keras_eegnet_model = EEGNet(\n",
    "        nb_classes = 3, # int, number of classes to classify. \n",
    "        Chans = 21, # number of channels in the EEG data. \n",
    "        Samples = 100, # number of time points in the EEG data. (default: 128)\n",
    "        dropoutRate = 0.5, # dropout fraction. (default: 0.5)\n",
    "        kernLength = 50, # length of temporal convolution in first layer. Suggested: half the sampling rate. (default: 64)\n",
    "        F1 = 8, # number of temporal filters. (default: 8)\n",
    "        F2 = 16, # number of pointwise filters. (default: 16)\n",
    "        D = 2, # number of spatial filters to learn within each temporal convolution. (default: 2)\n",
    "        norm_rate = 0.25, # Normalisation rate. (default: 0.25)\n",
    "        dropoutType = 'SpatialDropout2D' # Either SpatialDropout2D or Dropout, passed as a string. (default: Dropout)\n",
    "        )\n",
    "\n",
    "if do_experiment:\n",
    "        # Loop over all subjects and perform the grid search for finding the best parameters\n",
    "        for subject_id in subject_ids_to_test:\n",
    "                print(\"\")\n",
    "                print(\"####################################################\")\n",
    "                print(f\"# TRAINING FOR SUBJECT {subject_id}\")\n",
    "                print(\"####################################################\")\n",
    "                print(\"\")\n",
    "                ###################### PREPARE DATA ######################\n",
    "                \n",
    "                with io.capture_output():\n",
    "                        # Get all training data (all but last session of participant)\n",
    "                        mne_raws= CLA_dataset.get_all_but_last_raw_mne_data_for_subject(subject_id= subject_id)\n",
    "                        \n",
    "                        # Combine training data into singular mne raw\n",
    "                        mne_raw = mne.concatenate_raws(mne_raws)\n",
    "                        \n",
    "                        # Delete all raws since concat changes them\n",
    "                        del mne_raws\n",
    "                        \n",
    "                        # Get epochs for that MNE raw\n",
    "                        mne_epochs = CLA_dataset.get_usefull_epochs_from_raw(mne_raw,\n",
    "                                                                             start_offset= start_offset,\n",
    "                                                                             end_offset= end_offset,\n",
    "                                                                             baseline= baseline)\n",
    "                        \n",
    "                        # Only keep epochs from the MI tasks\n",
    "                        mne_epochs = mne_epochs['task/neutral', 'task/left', 'task/right']\n",
    "                        \n",
    "                        # Load epochs into memory\n",
    "                        mne_epochs.load_data()\n",
    "                \n",
    "                # Get the labels\n",
    "                labels = mne_epochs.events[:, -1]\n",
    "                \n",
    "                # Convert the labels to OHE labels as needed for Keras\n",
    "                labels = labels.reshape(-1, 1)\n",
    "                ohe = OneHotEncoder()\n",
    "                labels = ohe.fit_transform(labels).toarray()\n",
    "                \n",
    "                # Get a half second window\n",
    "                mne_epochs_data = mne_epochs.get_data(tmin= 0.1, tmax= 0.6)\n",
    "                \n",
    "                # Fix scaling sensitivity as MNE stores as data * 10e-6\n",
    "                mne_epochs_data = mne_epochs_data * 1000000\n",
    "                        \n",
    "                # Store the OHE encoder to enable same conversion later\n",
    "                with open(f\"saved_variables/4/samesubject_differentsession/subject{subject_id}/ohe-encoder.pickle\", 'wb') as file:\n",
    "                        pickle.dump(ohe, file)\n",
    "                        \n",
    "                print(f\"Shape of all data (epochs, channels, samples): {np.shape(mne_epochs_data)}\")\n",
    "                \n",
    "                \n",
    "                ###################### PREPARE MODEL ######################\n",
    "                \n",
    "                # Names for model\n",
    "                best_base_model_filename = f\"saved_variables/4/samesubject_differentsession/subject{subject_id}/trained_model\" \n",
    "                tensorboard_name = f\"paper-notebook4_eegnet_newsession_subject{subject_id}\" # log name for tensorboard\n",
    "                \n",
    "                # Create copy of the model that needs training\n",
    "                trained_model = keras.models.clone_model(keras_eegnet_model)\n",
    "                \n",
    "                # Compile the model so it can be fitted (loss and optimizer from EEGNet paper)\n",
    "                trained_model.compile(loss = 'categorical_crossentropy', optimizer = 'adam', metrics=[\"accuracy\"])\n",
    "                \n",
    "                # Train model with GPU\n",
    "                # NOTE: change GPU to CPU if nog GPU present\n",
    "                with tf.device('/gpu:0'):\n",
    "                        history = trained_model.fit(\n",
    "                                x= mne_epochs_data,\n",
    "                                y= labels,\n",
    "                                batch_size= 128, # Default: 32\n",
    "                                epochs= 2500, # Default: 500 (EEGNet paper)\n",
    "                                verbose= 1, # 0 = silent, 1 = progress bar, 2 = one line per epoch\n",
    "                                callbacks= [TF_tools.tensorboard_callback(log_name= tensorboard_name),\n",
    "                                            TF_tools.lowest_loss_model_save_callback(filepath= best_base_model_filename),\n",
    "                                            TF_tools.highest_accuracy_model_save_callback(filepath= best_base_model_filename)],\n",
    "                                validation_split= 0.3,\n",
    "                                shuffle= True,\n",
    "                                sample_weight= None, # Can be interesting due to time series\n",
    "                                use_multiprocessing=True, # Done for faster speed\n",
    "                                workers= 4 # Done for faster speed\n",
    "                                )\n",
    "                        \n",
    "                # Store the fitting history\n",
    "                with open(f\"saved_variables/4/samesubject_differentsession/subject{subject_id}/fitting_history.pickle\", 'wb') as file:\n",
    "                        pickle.dump(history.history, file)\n",
    "                \n",
    "                # Delete vars after singular experiment\n",
    "                del mne_raw\n",
    "                del mne_epochs\n",
    "                del mne_epochs_data\n",
    "                del trained_model\n",
    "                del best_base_model_filename\n",
    "                del tensorboard_name\n",
    "                del labels\n",
    "                del file\n",
    "                del history\n",
    "                del ohe\n",
    "    \n",
    "        # Delete vars after all experiments\n",
    "        del subject_id\n",
    "        \n",
    "# Del global vars\n",
    "del subject_ids_to_test\n",
    "del baseline\n",
    "del do_experiment\n",
    "del end_offset\n",
    "del start_offset\n",
    "del keras_eegnet_model"
   ]
  },
  {
   "cell_type": "markdown",
   "id": "1750b268",
   "metadata": {},
   "source": [
    "#### Results\n",
    "\n",
    "| **Subject** | **EEGNet: best validation accuracy** | **EEGNet: best validation loss** | **EEGNet: test split accuracy (best acc model)** | **EEGNet: test split accuracy (best loss model)** |\n",
    "|-------------|--------------------------------------|----------------------------------|--------------------------------------------------|---------------------------------------------------|\n",
    "| B           | 0.6927 @ epoch 1473                  | 0.761 @ epoch 1472               | 0.65                                             | 0.6573                                            |\n",
    "| C           | 0.8837 @ epoch 1159                  | 0.3827 @ epoch 584               | 0.7132                                           | 0.6986                                            |\n",
    "| E           | 0.7674 @ epoch 782                   | 0.5884 @ epoch 1028              | 0.7068                                           | 0.7246                                            |\n",
    "\n",
    "It becomes clear from the CM that the model always predicts a neutral task for the unseen session.\n",
    "The model does not generalize well.\n",
    "\n",
    "The training plots are given below.\n",
    "B is dark blue, C is light blue and E is light green.\n",
    "\n",
    "![Accuracy plot](figures/4/samesubject_newsession/accuracy.png)\n",
    "![Loss plot](figures/4/samesubject_newsession/loss.png)"
   ]
  },
  {
   "cell_type": "code",
   "execution_count": 12,
   "id": "e47bd4d6",
   "metadata": {
    "scrolled": false
   },
   "outputs": [
    {
     "name": "stdout",
     "output_type": "stream",
     "text": [
      "\n",
      "####################################################\n",
      "# RESULTS FOR SUBJECT B\n",
      "####################################################\n",
      "\n",
      "#### results of training ####\n",
      "Best training accuracy (max) 0.7399 @ epoch 2255\n",
      "Best training loss (min) 0.6547 @ epoch 2445\n",
      "\n",
      "Best validation accuracy (max) 0.6927 @ epoch 1473\n",
      "Best validation loss (min) 0.761 @ epoch 1472\n",
      "\n",
      "#### results for highest accuracy model ####\n",
      "Accuracy of: 0.65\n"
     ]
    },
    {
     "data": {
      "image/png": "[encoded data removed]",
      "text/plain": [
       "<Figure size 432x288 with 2 Axes>"
      ]
     },
     "metadata": {
      "needs_background": "light"
     },
     "output_type": "display_data"
    },
    {
     "name": "stdout",
     "output_type": "stream",
     "text": [
      "\n",
      "#### results for lowest loss model ####\n",
      "Accuracy of: 0.6573\n"
     ]
    },
    {
     "data": {
      "image/png": "[encoded data removed]",
      "text/plain": [
       "<Figure size 432x288 with 2 Axes>"
      ]
     },
     "metadata": {
      "needs_background": "light"
     },
     "output_type": "display_data"
    },
    {
     "name": "stdout",
     "output_type": "stream",
     "text": [
      "\n",
      "####################################################\n",
      "# RESULTS FOR SUBJECT C\n",
      "####################################################\n",
      "\n",
      "#### results of training ####\n",
      "Best training accuracy (max) 0.9583 @ epoch 2237\n",
      "Best training loss (min) 0.132 @ epoch 2331\n",
      "\n",
      "Best validation accuracy (max) 0.8837 @ epoch 1159\n",
      "Best validation loss (min) 0.3827 @ epoch 584\n",
      "\n",
      "#### results for highest accuracy model ####\n",
      "Accuracy of: 0.7132\n"
     ]
    },
    {
     "data": {
      "image/png": "[encoded data removed]",
      "text/plain": [
       "<Figure size 432x288 with 2 Axes>"
      ]
     },
     "metadata": {
      "needs_background": "light"
     },
     "output_type": "display_data"
    },
    {
     "name": "stdout",
     "output_type": "stream",
     "text": [
      "\n",
      "#### results for lowest loss model ####\n",
      "Accuracy of: 0.6986\n"
     ]
    },
    {
     "data": {
      "image/png": "[encoded data removed]",
      "text/plain": [
       "<Figure size 432x288 with 2 Axes>"
      ]
     },
     "metadata": {
      "needs_background": "light"
     },
     "output_type": "display_data"
    },
    {
     "name": "stdout",
     "output_type": "stream",
     "text": [
      "\n",
      "####################################################\n",
      "# RESULTS FOR SUBJECT E\n",
      "####################################################\n",
      "\n",
      "#### results of training ####\n",
      "Best training accuracy (max) 0.8389 @ epoch 2464\n",
      "Best training loss (min) 0.4234 @ epoch 2113\n",
      "\n",
      "Best validation accuracy (max) 0.7674 @ epoch 782\n",
      "Best validation loss (min) 0.5884 @ epoch 1028\n",
      "\n",
      "#### results for highest accuracy model ####\n",
      "Accuracy of: 0.7068\n"
     ]
    },
    {
     "data": {
      "image/png": "[encoded data removed]",
      "text/plain": [
       "<Figure size 432x288 with 2 Axes>"
      ]
     },
     "metadata": {
      "needs_background": "light"
     },
     "output_type": "display_data"
    },
    {
     "name": "stdout",
     "output_type": "stream",
     "text": [
      "\n",
      "#### results for lowest loss model ####\n",
      "Accuracy of: 0.7246\n"
     ]
    },
    {
     "data": {
      "image/png": "[encoded data removed]",
      "text/plain": [
       "<Figure size 432x288 with 2 Axes>"
      ]
     },
     "metadata": {
      "needs_background": "light"
     },
     "output_type": "display_data"
    }
   ],
   "source": [
    "####################################################\n",
    "# RESULTS\n",
    "####################################################\n",
    "\n",
    "# Configure global parameters for all experiments\n",
    "subject_ids_to_test = [\"B\", \"C\", \"E\"] # Subjects with three recordings\n",
    "start_offset = -1 # One second before visual queue\n",
    "end_offset = 1 # One second after visual queue\n",
    "baseline = None # Baseline correction using data before the visual queue\n",
    "\n",
    "# Loop over all found results\n",
    "for subject_id in subject_ids_to_test:\n",
    "    print()\n",
    "    print(\"####################################################\")\n",
    "    print(f\"# RESULTS FOR SUBJECT {subject_id}\")\n",
    "    print(\"####################################################\")\n",
    "    print()\n",
    "    \n",
    "    ################### load data ###################\n",
    "    # Names for model\n",
    "    best_base_model_filename = f\"saved_variables/4/samesubject_differentsession/subject{subject_id}/trained_model\"\n",
    "    \n",
    "    # Open models from file\n",
    "    lowest_loss_model = TF_tools.load_lowest_loss_model(filepath= best_base_model_filename)\n",
    "    highest_accuracy_model = TF_tools.load_highest_accuracy_model(filepath= best_base_model_filename)\n",
    "    \n",
    "    # Get test data session\n",
    "    with io.capture_output():\n",
    "        # Get test data\n",
    "        mne_raw = CLA_dataset.get_last_raw_mne_data_for_subject(subject_id)\n",
    "        \n",
    "        # Get epochs for test MNE raw\n",
    "        mne_epochs = CLA_dataset.get_usefull_epochs_from_raw(mne_raw,\n",
    "                                                             start_offset= start_offset,\n",
    "                                                             end_offset= end_offset,\n",
    "                                                             baseline= baseline)\n",
    "        \n",
    "        # Only keep epochs from the MI tasks\n",
    "        mne_epochs = mne_epochs['task/neutral', 'task/left', 'task/right']\n",
    "\n",
    "        # Load epochs into memory\n",
    "        mne_epochs.load_data()\n",
    "        \n",
    "        # Get the labels\n",
    "        y_test = mne_epochs.events[:, -1]\n",
    "        \n",
    "        # Get a half second window\n",
    "        X_test = mne_epochs.get_data(tmin= 0.1, tmax= 0.6)\n",
    "        \n",
    "        # Fix scaling sensitivity as MNE stores as data * 10e-6\n",
    "        X_test = X_test * 1000000\n",
    "        \n",
    "        # Delete resedual vars for training data\n",
    "        del mne_raw\n",
    "        del mne_epochs\n",
    "        \n",
    "    # Get OHE from file\n",
    "    with open(f\"saved_variables/4/samesubject_differentsession/subject{subject_id}/ohe-encoder.pickle\", 'rb') as f:\n",
    "        ohe = pickle.load(f)\n",
    "        \n",
    "    # Get history from file\n",
    "    with open(f\"saved_variables/4/samesubject_differentsession/subject{subject_id}/fitting_history.pickle\", 'rb') as f:\n",
    "        history = pickle.load(f)\n",
    "    \n",
    "    ################### history stats ###################\n",
    "    print(\"#### results of training ####\")\n",
    "    print(f\"Best training accuracy (max) {np.round(np.max(history['accuracy']), 4)} @ epoch {np.argmax(history['accuracy']) + 1}\")\n",
    "    print(f\"Best training loss (min) {np.round(np.min(history['loss']), 4)} @ epoch {np.argmin(history['loss']) + 1}\")\n",
    "    print()\n",
    "    print(f\"Best validation accuracy (max) {np.round(np.max(history['val_accuracy']), 4)} @ epoch {np.argmax(history['val_accuracy']) + 1}\")\n",
    "    print(f\"Best validation loss (min) {np.round(np.min(history['val_loss']), 4)} @ epoch {np.argmin(history['val_loss']) + 1}\")\n",
    "    \n",
    "    ################### highest accuracy model ###################\n",
    "    print(\"\\n#### results for highest accuracy model ####\")\n",
    "    # Get predictions from lowest loss model and convert back to labels\n",
    "    y_pred = highest_accuracy_model.predict(X_test)\n",
    "    y_pred = ohe.inverse_transform(y_pred)\n",
    "    \n",
    "    # Get accuracy score and print it\n",
    "    accuracy =  accuracy_score(y_test, y_pred)\n",
    "    print(f\"Accuracy of: {np.round(accuracy, 4)}\")\n",
    "    \n",
    "    # Show CM\n",
    "    ConfusionMatrixDisplay.from_predictions(y_true= y_test, y_pred= y_pred)\n",
    "    plt.show()\n",
    "    \n",
    "    ################### lowest loss model ###################\n",
    "    print(\"\\n#### results for lowest loss model ####\")\n",
    "    # Get predictions from lowest loss model and convert back to labels\n",
    "    y_pred = lowest_loss_model.predict(X_test)\n",
    "    y_pred = ohe.inverse_transform(y_pred)\n",
    "    \n",
    "    # Get accuracy score and print it\n",
    "    accuracy =  accuracy_score(y_test, y_pred)\n",
    "    print(f\"Accuracy of: {np.round(accuracy, 4)}\")\n",
    "    \n",
    "    # Show CM\n",
    "    ConfusionMatrixDisplay.from_predictions(y_true= y_test, y_pred= y_pred)\n",
    "    plt.show()\n",
    "    \n",
    "    ################### cleanup ###################\n",
    "    # remove unused vars\n",
    "    del best_base_model_filename\n",
    "    del lowest_loss_model\n",
    "    del highest_accuracy_model\n",
    "    del f\n",
    "    del X_test\n",
    "    del y_test\n",
    "    del history\n",
    "    del ohe\n",
    "    del y_pred\n",
    "    del accuracy\n",
    "\n",
    "# Remove unsused variables\n",
    "del subject_ids_to_test\n",
    "del subject_id\n",
    "del baseline\n",
    "del end_offset\n",
    "del start_offset"
   ]
  },
  {
   "cell_type": "markdown",
   "id": "302d1d63",
   "metadata": {},
   "source": [
    "### Longer window length\n",
    "\n",
    "An experiment was performed where the window size was changed to 1.5 seconds.\n",
    "This is done by including 0.25 seconds before and after the queue is shown, totalling 0.25 + 1 + 0.25 = 1.5 seconds.\n",
    "The following parameters were changed:\n",
    "- Samples = 300 (from 100)\n",
    "- kernLength = 150 (from 50)\n",
    "- F1 = 16 (from 8)\n",
    "- F2 = 32 (from 16)\n",
    "- D = 4 (from 2)\n",
    "\n",
    "The performed experiment is equal besides this.\n",
    "The following results were obtained:\n",
    "\n",
    "\n",
    "| **Subject** | **EEGNet: best validation accuracy** | **EEGNet: best validation loss** | **EEGNet: test split accuracy (best acc model)** | **EEGNet: test split accuracy (best loss model)** |\n",
    "|-------------|--------------------------------------|----------------------------------|--------------------------------------------------|---------------------------------------------------|\n",
    "| B           | 0.7378 @ epoch 2483                  | 0.6887 @ epoch 204               | 0.6677                                           | 0.674                                             |\n",
    "| C           | 0.9149 @ epoch 885                   | 0.3764 @ epoch 208               | 0.6392                                           | 0.6267                                            |\n",
    "| E           | 0.8333 @ epoch 233                   | 0.4867 @ epoch 302               | 0.7707                                           | 0.7812                                            |\n",
    "\n",
    "\n",
    "The training plots are given below.\n",
    "B is dark blue, C is light blue and E is green.\n",
    "Again, there is a clear sign of divergence!\n",
    "\n",
    "![Accuracy plot](figures/4/samesubject_newsession_longer_window/accuracy.png)\n",
    "![Loss plot](figures/4/samesubject_newsession_longer_window/loss.png)"
   ]
  },
  {
   "cell_type": "code",
   "execution_count": 13,
   "id": "0118d8e8",
   "metadata": {},
   "outputs": [],
   "source": [
    "####################################################\n",
    "# TRAINING EEGNET ON EACH SUBJECT AND TWO SESSIONS\n",
    "####################################################\n",
    "\n",
    "# Configure global parameters for all experiments\n",
    "subject_ids_to_test = [\"B\", \"C\", \"E\"] # Subjects with three recordings\n",
    "start_offset = -1 # One second before visual queue\n",
    "end_offset = 1 # One second after visual queue\n",
    "baseline = None # Baseline correction using data before the visual queue\n",
    "\n",
    "do_experiment = False # Long experiment disabled per default\n",
    "\n",
    "# Create the TensorFlow Keras model\n",
    "keras_eegnet_model = EEGNet(\n",
    "        nb_classes = 3, # int, number of classes to classify. \n",
    "        Chans = 21, # number of channels in the EEG data. \n",
    "        Samples = 300, # number of time points in the EEG data. (default: 128)\n",
    "        dropoutRate = 0.5, # dropout fraction. (default: 0.5)\n",
    "        kernLength = 150, # length of temporal convolution in first layer. Suggested: half the sampling rate. (default: 64)\n",
    "        F1 = 16, # number of temporal filters. (default: 8)\n",
    "        F2 = 32, # number of pointwise filters. (default: 16)\n",
    "        D = 4, # number of spatial filters to learn within each temporal convolution. (default: 2)\n",
    "        norm_rate = 0.25, # Normalisation rate. (default: 0.25)\n",
    "        dropoutType = 'SpatialDropout2D' # Either SpatialDropout2D or Dropout, passed as a string. (default: Dropout)\n",
    "        )\n",
    "\n",
    "if do_experiment:\n",
    "        # Loop over all subjects and perform the grid search for finding the best parameters\n",
    "        for subject_id in subject_ids_to_test:\n",
    "                print(\"\")\n",
    "                print(\"####################################################\")\n",
    "                print(f\"# TRAINING FOR SUBJECT {subject_id}\")\n",
    "                print(\"####################################################\")\n",
    "                print(\"\")\n",
    "                ###################### PREPARE DATA ######################\n",
    "                \n",
    "                with io.capture_output():\n",
    "                        # Get all training data (all but last session of participant)\n",
    "                        mne_raws= CLA_dataset.get_all_but_last_raw_mne_data_for_subject(subject_id= subject_id)\n",
    "                        \n",
    "                        # Combine training data into singular mne raw\n",
    "                        mne_raw = mne.concatenate_raws(mne_raws)\n",
    "                        \n",
    "                        # Delete all raws since concat changes them\n",
    "                        del mne_raws\n",
    "                        \n",
    "                        # Get epochs for that MNE raw\n",
    "                        mne_epochs = CLA_dataset.get_usefull_epochs_from_raw(mne_raw,\n",
    "                                                                             start_offset= start_offset,\n",
    "                                                                             end_offset= end_offset,\n",
    "                                                                             baseline= baseline)\n",
    "                        \n",
    "                        # Only keep epochs from the MI tasks\n",
    "                        mne_epochs = mne_epochs['task/neutral', 'task/left', 'task/right']\n",
    "                        \n",
    "                        # Load epochs into memory\n",
    "                        mne_epochs.load_data()\n",
    "                \n",
    "                # Get the labels\n",
    "                labels = mne_epochs.events[:, -1]\n",
    "                \n",
    "                # Convert the labels to OHE labels as needed for Keras\n",
    "                labels = labels.reshape(-1, 1)\n",
    "                ohe = OneHotEncoder()\n",
    "                labels = ohe.fit_transform(labels).toarray()\n",
    "                \n",
    "                # Get a 1.5 seconds window\n",
    "                mne_epochs_data = mne_epochs.get_data(tmin= -0.25, tmax= 1.25)\n",
    "                \n",
    "                # Fix scaling sensitivity as MNE stores as data * 10e-6\n",
    "                mne_epochs_data = mne_epochs_data * 1000000\n",
    "                        \n",
    "                # Store the OHE encoder to enable same conversion later\n",
    "                with open(f\"saved_variables/4/samesubject_differentsession_longer_window/subject{subject_id}/ohe-encoder.pickle\", 'wb') as file:\n",
    "                        pickle.dump(ohe, file)\n",
    "                        \n",
    "                print(f\"Shape of all data (epochs, channels, samples): {np.shape(mne_epochs_data)}\")\n",
    "                \n",
    "                \n",
    "                ###################### PREPARE MODEL ######################\n",
    "                \n",
    "                # Names for model\n",
    "                best_base_model_filename = f\"saved_variables/4/samesubject_differentsession_longer_window/subject{subject_id}/trained_model\" \n",
    "                tensorboard_name = f\"paper-notebook4_eegnet_newsession_longer_subject{subject_id}\" # log name for tensorboard\n",
    "                \n",
    "                # Create copy of the model that needs training\n",
    "                trained_model = keras.models.clone_model(keras_eegnet_model)\n",
    "                \n",
    "                # Compile the model so it can be fitted (loss and optimizer from EEGNet paper)\n",
    "                trained_model.compile(loss = 'categorical_crossentropy', optimizer = 'adam', metrics=[\"accuracy\"])\n",
    "                \n",
    "                # Train model with GPU\n",
    "                # NOTE: change GPU to CPU if nog GPU present\n",
    "                with tf.device('/gpu:0'):\n",
    "                        history = trained_model.fit(\n",
    "                                x= mne_epochs_data,\n",
    "                                y= labels,\n",
    "                                batch_size= 128, # Default: 32\n",
    "                                epochs= 2500, # Default: 500 (EEGNet paper)\n",
    "                                verbose= 1, # 0 = silent, 1 = progress bar, 2 = one line per epoch\n",
    "                                callbacks= [TF_tools.tensorboard_callback(log_name= tensorboard_name),\n",
    "                                            TF_tools.lowest_loss_model_save_callback(filepath= best_base_model_filename),\n",
    "                                            TF_tools.highest_accuracy_model_save_callback(filepath= best_base_model_filename)],\n",
    "                                validation_split= 0.3,\n",
    "                                shuffle= True,\n",
    "                                sample_weight= None, # Can be interesting due to time series\n",
    "                                use_multiprocessing=True, # Done for faster speed\n",
    "                                workers= 4 # Done for faster speed\n",
    "                                )\n",
    "                        \n",
    "                # Store the fitting history\n",
    "                with open(f\"saved_variables/4/samesubject_differentsession_longer_window/subject{subject_id}/fitting_history.pickle\", 'wb') as file:\n",
    "                        pickle.dump(history.history, file)\n",
    "                \n",
    "                # Delete vars after singular experiment\n",
    "                del mne_raw\n",
    "                del mne_epochs\n",
    "                del mne_epochs_data\n",
    "                del trained_model\n",
    "                del best_base_model_filename\n",
    "                del tensorboard_name\n",
    "                del labels\n",
    "                del file\n",
    "                del history\n",
    "                del ohe\n",
    "    \n",
    "        # Delete vars after all experiments\n",
    "        del subject_id\n",
    "        \n",
    "# Del global vars\n",
    "del subject_ids_to_test\n",
    "del baseline\n",
    "del do_experiment\n",
    "del end_offset\n",
    "del start_offset\n",
    "del keras_eegnet_model"
   ]
  },
  {
   "cell_type": "code",
   "execution_count": 14,
   "id": "7c6ad7d1",
   "metadata": {
    "scrolled": false
   },
   "outputs": [
    {
     "name": "stdout",
     "output_type": "stream",
     "text": [
      "\n",
      "####################################################\n",
      "# RESULTS FOR SUBJECT B\n",
      "####################################################\n",
      "\n",
      "#### results of training ####\n",
      "Best training accuracy (max) 0.918 @ epoch 2399\n",
      "Best training loss (min) 0.2389 @ epoch 2399\n",
      "\n",
      "Best validation accuracy (max) 0.7378 @ epoch 2483\n",
      "Best validation loss (min) 0.6887 @ epoch 204\n",
      "\n",
      "#### results for highest accuracy model ####\n",
      "Accuracy of: 0.6677\n"
     ]
    },
    {
     "data": {
      "image/png": "[encoded data removed]",
      "text/plain": [
       "<Figure size 432x288 with 2 Axes>"
      ]
     },
     "metadata": {
      "needs_background": "light"
     },
     "output_type": "display_data"
    },
    {
     "name": "stdout",
     "output_type": "stream",
     "text": [
      "\n",
      "#### results for lowest loss model ####\n",
      "Accuracy of: 0.674\n"
     ]
    },
    {
     "data": {
      "image/png": "[encoded data removed]",
      "text/plain": [
       "<Figure size 432x288 with 2 Axes>"
      ]
     },
     "metadata": {
      "needs_background": "light"
     },
     "output_type": "display_data"
    },
    {
     "name": "stdout",
     "output_type": "stream",
     "text": [
      "\n",
      "####################################################\n",
      "# RESULTS FOR SUBJECT C\n",
      "####################################################\n",
      "\n",
      "#### results of training ####\n",
      "Best training accuracy (max) 1.0 @ epoch 1965\n",
      "Best training loss (min) 0.0056 @ epoch 2042\n",
      "\n",
      "Best validation accuracy (max) 0.9149 @ epoch 885\n",
      "Best validation loss (min) 0.3764 @ epoch 208\n",
      "\n",
      "#### results for highest accuracy model ####\n",
      "Accuracy of: 0.6392\n"
     ]
    },
    {
     "data": {
      "image/png": "[encoded data removed]",
      "text/plain": [
       "<Figure size 432x288 with 2 Axes>"
      ]
     },
     "metadata": {
      "needs_background": "light"
     },
     "output_type": "display_data"
    },
    {
     "name": "stdout",
     "output_type": "stream",
     "text": [
      "\n",
      "#### results for lowest loss model ####\n",
      "Accuracy of: 0.6267\n"
     ]
    },
    {
     "data": {
      "image/png": "[encoded data removed]",
      "text/plain": [
       "<Figure size 432x288 with 2 Axes>"
      ]
     },
     "metadata": {
      "needs_background": "light"
     },
     "output_type": "display_data"
    },
    {
     "name": "stdout",
     "output_type": "stream",
     "text": [
      "\n",
      "####################################################\n",
      "# RESULTS FOR SUBJECT E\n",
      "####################################################\n",
      "\n",
      "#### results of training ####\n",
      "Best training accuracy (max) 0.9732 @ epoch 2482\n",
      "Best training loss (min) 0.0852 @ epoch 2382\n",
      "\n",
      "Best validation accuracy (max) 0.8333 @ epoch 233\n",
      "Best validation loss (min) 0.4867 @ epoch 302\n",
      "\n",
      "#### results for highest accuracy model ####\n",
      "Accuracy of: 0.7707\n"
     ]
    },
    {
     "data": {
      "image/png": "[encoded data removed]",
      "text/plain": [
       "<Figure size 432x288 with 2 Axes>"
      ]
     },
     "metadata": {
      "needs_background": "light"
     },
     "output_type": "display_data"
    },
    {
     "name": "stdout",
     "output_type": "stream",
     "text": [
      "\n",
      "#### results for lowest loss model ####\n",
      "Accuracy of: 0.7812\n"
     ]
    },
    {
     "data": {
      "image/png": "[encoded data removed]",
      "text/plain": [
       "<Figure size 432x288 with 2 Axes>"
      ]
     },
     "metadata": {
      "needs_background": "light"
     },
     "output_type": "display_data"
    }
   ],
   "source": [
    "####################################################\n",
    "# RESULTS\n",
    "####################################################\n",
    "\n",
    "# Configure global parameters for all experiments\n",
    "subject_ids_to_test = [\"B\", \"C\", \"E\"] # Subjects with three recordings\n",
    "start_offset = -1 # One second before visual queue\n",
    "end_offset = 1 # One second after visual queue\n",
    "baseline = None # Baseline correction using data before the visual queue\n",
    "\n",
    "# Loop over all found results\n",
    "for subject_id in subject_ids_to_test:\n",
    "    print()\n",
    "    print(\"####################################################\")\n",
    "    print(f\"# RESULTS FOR SUBJECT {subject_id}\")\n",
    "    print(\"####################################################\")\n",
    "    print()\n",
    "    \n",
    "    ################### load data ###################\n",
    "    # Names for model\n",
    "    best_base_model_filename = f\"saved_variables/4/samesubject_differentsession_longer_window/subject{subject_id}/trained_model\"\n",
    "    \n",
    "    # Open models from file\n",
    "    lowest_loss_model = TF_tools.load_lowest_loss_model(filepath= best_base_model_filename)\n",
    "    highest_accuracy_model = TF_tools.load_highest_accuracy_model(filepath= best_base_model_filename)\n",
    "    \n",
    "    # Get test data session\n",
    "    with io.capture_output():\n",
    "        # Get test data\n",
    "        mne_raw = CLA_dataset.get_last_raw_mne_data_for_subject(subject_id)\n",
    "        \n",
    "        # Get epochs for test MNE raw\n",
    "        mne_epochs = CLA_dataset.get_usefull_epochs_from_raw(mne_raw,\n",
    "                                                             start_offset= start_offset,\n",
    "                                                             end_offset= end_offset,\n",
    "                                                             baseline= baseline)\n",
    "        \n",
    "        # Only keep epochs from the MI tasks\n",
    "        mne_epochs = mne_epochs['task/neutral', 'task/left', 'task/right']\n",
    "\n",
    "        # Load epochs into memory\n",
    "        mne_epochs.load_data()\n",
    "        \n",
    "        # Get the labels\n",
    "        y_test = mne_epochs.events[:, -1]\n",
    "        \n",
    "        # Get a half second window\n",
    "        X_test = mne_epochs.get_data(tmin= -0.25, tmax= 1.25)\n",
    "        \n",
    "        # Fix scaling sensitivity as MNE stores as data * 10e-6\n",
    "        X_test = X_test * 1000000\n",
    "        \n",
    "        # Delete resedual vars for training data\n",
    "        del mne_raw\n",
    "        del mne_epochs\n",
    "        \n",
    "    # Get OHE from file\n",
    "    with open(f\"saved_variables/4/samesubject_differentsession_longer_window/subject{subject_id}/ohe-encoder.pickle\", 'rb') as f:\n",
    "        ohe = pickle.load(f)\n",
    "        \n",
    "    # Get history from file\n",
    "    with open(f\"saved_variables/4/samesubject_differentsession_longer_window/subject{subject_id}/fitting_history.pickle\", 'rb') as f:\n",
    "        history = pickle.load(f)\n",
    "    \n",
    "    ################### history stats ###################\n",
    "    print(\"#### results of training ####\")\n",
    "    print(f\"Best training accuracy (max) {np.round(np.max(history['accuracy']), 4)} @ epoch {np.argmax(history['accuracy']) + 1}\")\n",
    "    print(f\"Best training loss (min) {np.round(np.min(history['loss']), 4)} @ epoch {np.argmin(history['loss']) + 1}\")\n",
    "    print()\n",
    "    print(f\"Best validation accuracy (max) {np.round(np.max(history['val_accuracy']), 4)} @ epoch {np.argmax(history['val_accuracy']) + 1}\")\n",
    "    print(f\"Best validation loss (min) {np.round(np.min(history['val_loss']), 4)} @ epoch {np.argmin(history['val_loss']) + 1}\")\n",
    "    \n",
    "    ################### highest accuracy model ###################\n",
    "    print(\"\\n#### results for highest accuracy model ####\")\n",
    "    # Get predictions from lowest loss model and convert back to labels\n",
    "    y_pred = highest_accuracy_model.predict(X_test)\n",
    "    y_pred = ohe.inverse_transform(y_pred)\n",
    "    \n",
    "    # Get accuracy score and print it\n",
    "    accuracy =  accuracy_score(y_test, y_pred)\n",
    "    print(f\"Accuracy of: {np.round(accuracy, 4)}\")\n",
    "    \n",
    "    # Show CM\n",
    "    ConfusionMatrixDisplay.from_predictions(y_true= y_test, y_pred= y_pred)\n",
    "    plt.show()\n",
    "    \n",
    "    ################### lowest loss model ###################\n",
    "    print(\"\\n#### results for lowest loss model ####\")\n",
    "    # Get predictions from lowest loss model and convert back to labels\n",
    "    y_pred = lowest_loss_model.predict(X_test)\n",
    "    y_pred = ohe.inverse_transform(y_pred)\n",
    "    \n",
    "    # Get accuracy score and print it\n",
    "    accuracy =  accuracy_score(y_test, y_pred)\n",
    "    print(f\"Accuracy of: {np.round(accuracy, 4)}\")\n",
    "    \n",
    "    # Show CM\n",
    "    ConfusionMatrixDisplay.from_predictions(y_true= y_test, y_pred= y_pred)\n",
    "    plt.show()\n",
    "    \n",
    "    ################### cleanup ###################\n",
    "    # remove unused vars\n",
    "    del best_base_model_filename\n",
    "    del lowest_loss_model\n",
    "    del highest_accuracy_model\n",
    "    del f\n",
    "    del X_test\n",
    "    del y_test\n",
    "    del history\n",
    "    del ohe\n",
    "    del y_pred\n",
    "    del accuracy\n",
    "\n",
    "# Remove unsused variables\n",
    "del subject_ids_to_test\n",
    "del subject_id\n",
    "del baseline\n",
    "del end_offset\n",
    "del start_offset"
   ]
  },
  {
   "cell_type": "code",
   "execution_count": null,
   "id": "81e8a465",
   "metadata": {},
   "outputs": [],
   "source": []
  }
 ],
 "metadata": {
  "kernelspec": {
   "display_name": "Python 3 (ipykernel)",
   "language": "python",
   "name": "python3"
  },
  "language_info": {
   "codemirror_mode": {
    "name": "ipython",
    "version": 3
   },
   "file_extension": ".py",
   "mimetype": "text/x-python",
   "name": "python",
   "nbconvert_exporter": "python",
   "pygments_lexer": "ipython3",
   "version": "3.8.10"
  },
  "vscode": {
   "interpreter": {
    "hash": "f92ed28e6a5fe026f22555c18fed88052bb861e5576fb72d2ac78e2247fef331"
   }
  }
 },
 "nbformat": 4,
 "nbformat_minor": 5
}
