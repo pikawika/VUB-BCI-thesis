{
 "cells": [
  {
   "cell_type": "markdown",
   "id": "337221df",
   "metadata": {},
   "source": [
    "# Data visualisation\n",
    "\n",
    "This notebook visualizes the data from the database provided by [Kaya et al.](https://doi.org/10.1038/sdata.2018.211).\n",
    "The knowledge and utilities obtained from the experimental notebooks one to three are used throughout this notebook.\n",
    "\n",
    "Instructions on where to get the data are available on [the GitHub repository of the BCI master thesis project](https://www.github.com/pikawika/bci-master-thesis). These instructions are under `bci-master-thesis/code/data/CLA/README.md`. We will use the utility file `bci-master-thesis/code/utils/CLA_dataset.py` to work with this data, which gathered its functions from the experiments performed in `bci-master-thesis/experimental-notebooks/1-CLA-dataset-exploration-notebook.ipynb` and `bci-master-thesis/experimental-notebooks/2-MNE-datastructure-exploration-notebook.ipynb`. The data was stored as FIF files, which are included in [the GitHub repository of the BCI master thesis project](https://www.github.com/pikawika/bci-master-thesis)."
   ]
  },
  {
   "cell_type": "markdown",
   "id": "b5341c6d",
   "metadata": {},
   "source": [
    "## Table of Contents\n",
    "\n",
    "- Checking requirements\n",
    "  - Correct Anaconda environment\n",
    "  - Correct module access\n",
    "  - Correct file access\n",
    "- Loading in data\n",
    "  - Validating correct annotations and events\n",
    "- Visualising the data\n",
    "  - Important markers\n",
    "  - Raw EEG data\n",
    "- Cleaning resedual notebook variables"
   ]
  },
  {
   "cell_type": "markdown",
   "id": "292165d3",
   "metadata": {},
   "source": [
    "<hr><hr>\n",
    "\n",
    "## Checking requirements"
   ]
  },
  {
   "cell_type": "markdown",
   "id": "7f55ad17",
   "metadata": {},
   "source": [
    "### Correct Anaconda environment\n",
    "\n",
    "The `bci-master-thesis` Anaconda environment should be active to ensure proper support. Installation instructions are available on [the GitHub repository of the BCI master thesis project](https://www.github.com/pikawika/bci-master-thesis)."
   ]
  },
  {
   "cell_type": "code",
   "execution_count": 10,
   "id": "334d5fd4",
   "metadata": {},
   "outputs": [
    {
     "name": "stdout",
     "output_type": "stream",
     "text": [
      "Active environment: bci-master-thesis\n",
      "Correct environment: True\n",
      "\n",
      "Python version: 3.8.10\n",
      "Correct Python version: True\n"
     ]
    }
   ],
   "source": [
    "####################################################\n",
    "# CHECKING FOR RIGHT ANACONDA ENVIRONMENT\n",
    "####################################################\n",
    "\n",
    "import os\n",
    "from platform import python_version\n",
    "from pathlib import Path\n",
    "from copy import copy\n",
    "\n",
    "print(f\"Active environment: {os.environ['CONDA_DEFAULT_ENV']}\")\n",
    "print(f\"Correct environment: {os.environ['CONDA_DEFAULT_ENV'] == 'bci-master-thesis'}\")\n",
    "print(f\"\\nPython version: {python_version()}\")\n",
    "print(f\"Correct Python version: {python_version() == '3.8.10'}\")"
   ]
  },
  {
   "cell_type": "markdown",
   "id": "22166668",
   "metadata": {},
   "source": [
    "<hr>\n",
    "\n",
    "### Correct module access\n",
    "\n",
    "The following code block will load in all required modules."
   ]
  },
  {
   "cell_type": "code",
   "execution_count": 11,
   "id": "ab632204",
   "metadata": {},
   "outputs": [
    {
     "name": "stdout",
     "output_type": "stream",
     "text": [
      "MNE version (1.0.2 recommended): 1.0.2\n",
      "Numpy version (1.21.5 recommended): 1.21.5\n",
      "Matplotlib version (3.5.1 recommended): 3.5.1\n"
     ]
    }
   ],
   "source": [
    "####################################################\n",
    "# LOADING MODULES\n",
    "####################################################\n",
    "\n",
    "# Load util function file\n",
    "import sys\n",
    "sys.path.append('../utils')\n",
    "import CLA_dataset\n",
    "\n",
    "# Modules tailored for EEG data\n",
    "import mne; print(f\"MNE version (1.0.2 recommended): {mne.__version__}\")\n",
    "\n",
    "# Data manipulation modules\n",
    "import numpy as np; print(f\"Numpy version (1.21.5 recommended): {np.__version__}\")\n",
    "\n",
    "# Plotting\n",
    "import matplotlib; print(f\"Matplotlib version (3.5.1 recommended): {matplotlib.__version__}\")\n",
    "import matplotlib.pyplot as plt"
   ]
  },
  {
   "cell_type": "markdown",
   "id": "813bb5de",
   "metadata": {},
   "source": [
    "<hr>\n",
    "\n",
    "### Correct file access\n",
    "\n",
    "As mentioned, this notebook uses a database provided by [Kaya et al](https://doi.org/10.1038/sdata.2018.211). The CLA dataset in particular. Instructions on where to get the data are available on [the GitHub repository of the BCI master thesis project](https://www.github.com/pikawika/bci-master-thesis). These instructions are under `bci-master-thesis/code/data/CLA/README.md`. The following code block checks if all required files are available."
   ]
  },
  {
   "cell_type": "code",
   "execution_count": 12,
   "id": "caa1d182",
   "metadata": {},
   "outputs": [
    {
     "name": "stdout",
     "output_type": "stream",
     "text": [
      "Full Matlab CLA file access: True\n",
      "Full MNE CLA file access: True\n"
     ]
    }
   ],
   "source": [
    "####################################################\n",
    "# CHECKING FILE ACCESS\n",
    "####################################################\n",
    "\n",
    "# Use util to determine if we have access\n",
    "print(\"Full Matlab CLA file access: \" + str(CLA_dataset.check_matlab_files_availability()))\n",
    "print(\"Full MNE CLA file access: \" + str(CLA_dataset.check_mne_files_availability()))"
   ]
  },
  {
   "cell_type": "markdown",
   "id": "43a71dde",
   "metadata": {},
   "source": [
    "<hr><hr>\n",
    "\n",
    "## Loading in data\n",
    "\n",
    "In this step, we load the data. The data is provided as `.mat` files and thus originally meant for use with MATLAB. \n",
    "However, thanks to the written `CLA_dataset` util file we can easily get the MNE raw data from it, FIF files of which are also provided on [the GitHub repository of the BCI master thesis project](https://www.github.com/pikawika/bci-master-thesis).\n",
    "\n",
    "Please specify the filename in the below code block. For more info on which variants are available, please look at the `bci-master-thesis/code/data/CLA/README.md` file.\n",
    "\n",
    "Remember the meaning of the markers:\n",
    "- 0: “blank” or nothing is displayed in eGUI\n",
    "    - Can be seen as a break between stimuli, thus random EEG data that should probably be ignored\n",
    "- 1: Left hand action\n",
    "    - EEG data for MI of the left hand\n",
    "- 2: Right hand action\n",
    "    - EEG data for MI of the right hand\n",
    "- 3: Passive/neutral\n",
    "    - EEG data for MI of neither left nor right hand but 'focused'\n",
    "- 91: inter-session rest break period\n",
    "- 92: experiment end\n",
    "- 99: initial relaxation period"
   ]
  },
  {
   "cell_type": "code",
   "execution_count": 13,
   "id": "399f5c6e",
   "metadata": {},
   "outputs": [
    {
     "name": "stdout",
     "output_type": "stream",
     "text": [
      "Loaded MNE for CLASubjectB1512153StLRHand:\n",
      "\n"
     ]
    },
    {
     "data": {
      "text/html": [
       "<table class=\"table table-hover table-striped table-sm table-responsive small\">\n",
       "    <tr>\n",
       "        <th>Measurement date</th>\n",
       "        \n",
       "        <td>December 15, 2015  00:00:00 GMT</td>\n",
       "        \n",
       "    </tr>\n",
       "    <tr>\n",
       "        <th>Experimenter</th>\n",
       "        \n",
       "        <td>Kaya et al.</td>\n",
       "        \n",
       "    </tr>\n",
       "        <th>Participant</th>\n",
       "        \n",
       "            \n",
       "            <td>B</td>\n",
       "            \n",
       "        \n",
       "    </tr>\n",
       "    <tr>\n",
       "        <th>Digitized points</th>\n",
       "        \n",
       "        <td>0 points</td>\n",
       "        \n",
       "    </tr>\n",
       "    <tr>\n",
       "        <th>Good channels</th>\n",
       "        <td>21 EEG</td>\n",
       "    </tr>\n",
       "    <tr>\n",
       "        <th>Bad channels</th>\n",
       "        <td>None</td>\n",
       "    </tr>\n",
       "    <tr>\n",
       "        <th>EOG channels</th>\n",
       "        <td>Not available</td>\n",
       "    </tr>\n",
       "    <tr>\n",
       "        <th>ECG channels</th>\n",
       "        <td>Not available</td>\n",
       "    \n",
       "    <tr>\n",
       "        <th>Sampling frequency</th>\n",
       "        <td>200.00 Hz</td>\n",
       "    </tr>\n",
       "    \n",
       "    \n",
       "    <tr>\n",
       "        <th>Highpass</th>\n",
       "        <td>0.00 Hz</td>\n",
       "    </tr>\n",
       "    \n",
       "    \n",
       "    <tr>\n",
       "        <th>Lowpass</th>\n",
       "        <td>100.00 Hz</td>\n",
       "    </tr>\n",
       "    \n",
       "    \n",
       "    \n",
       "    <tr>\n",
       "        <th>Filenames</th>\n",
       "        <td>CLASubjectB1512153StLRHand_raw.fif</td>\n",
       "    </tr>\n",
       "    \n",
       "    <tr>\n",
       "        <th>Duration</th>\n",
       "        <td>00:55:38 (HH:MM:SS)</td>\n",
       "    </tr>\n",
       "</table>"
      ],
      "text/plain": [
       "<Raw | CLASubjectB1512153StLRHand_raw.fif, 21 x 667800 (3339.0 s), ~37 kB, data not loaded>"
      ]
     },
     "metadata": {},
     "output_type": "display_data"
    }
   ],
   "source": [
    "####################################################\n",
    "# LOADING RAW MNE DATA\n",
    "####################################################\n",
    "\n",
    "# You can specify the data file to use here, per default it is CLASubjectB1512153StLRHand\n",
    "data_file_name = \"CLASubjectB1512153StLRHand\"\n",
    "\n",
    "mne_raw = CLA_dataset.get_raw_mne_data(data_file_name)\n",
    "\n",
    "print(f\"Loaded MNE for {data_file_name}:\\n\")\n",
    "display(mne_raw)"
   ]
  },
  {
   "cell_type": "markdown",
   "id": "8dfe89dd",
   "metadata": {},
   "source": [
    "### Validating correct annotations and events\n",
    "\n",
    "The util file should load in the data correctly.\n",
    "The following code block will validate this."
   ]
  },
  {
   "cell_type": "code",
   "execution_count": 14,
   "id": "4645834b",
   "metadata": {},
   "outputs": [
    {
     "name": "stdout",
     "output_type": "stream",
     "text": [
      "EEG time in seconds according to MNE: 3338.995 seconds\n",
      "Duration of EEG data manually calculated: 3339.0 seconds\n",
      "\n",
      "\n",
      "First annotation starts at 0.0 seconds and ends at 180.52499389648438 seconds with textual marker: info/blank_screen\n",
      "First important marker starts at 0.0 seconds and ends at 180.525 seconds with textual marker: info/blank_screen\n",
      "\n",
      "Second annotation starts at 180.529999 seconds and ends at 181.53999350683594 seconds with textual marker: task/left\n",
      "Second important marker starts at 180.53 seconds and ends at 181.54 seconds with textual marker: task/left\n",
      "\n",
      "Annotation 500 starts at 933.565002 seconds and ends at 935.6049800273438 seconds with textual marker: info/blank_screen\n",
      "Important marker 500 starts at 933.565 seconds and ends at 935.605 seconds with textual marker: info/blank_screen\n",
      "\n",
      "Annotation 1000 starts at 1800.52002 seconds and ends at 1802.37500046875 seconds with textual marker: info/blank_screen\n",
      "Important marker 1000 starts at 1800.52 seconds and ends at 1802.375 seconds with textual marker: info/blank_screen\n",
      "\n",
      "\n",
      "First event starts at sample 0 with marker 0\n",
      "First important marker starts at sample 0 with marker 0\n",
      "\n",
      "Second event starts at sample 36106 with marker 1\n",
      "Second important marker starts at sample 36106 with marker 1\n",
      "\n",
      "Event 500 starts at sample 186713 with marker 0\n",
      "Important marker 500 starts at sample 186713 with marker 0\n",
      "\n",
      "Event 1000 starts at sample 360104 with marker 0\n",
      "Important marker 1000 starts at sample 360104 with marker 0\n"
     ]
    }
   ],
   "source": [
    "####################################################\n",
    "# VALIDATE ANNOTATIONS AND EVENTS\n",
    "####################################################\n",
    "\n",
    "# Validate length\n",
    "print(f\"EEG time in seconds according to MNE: {mne_raw.times.max()} seconds\")\n",
    "print(f\"Duration of EEG data manually calculated: {mne_raw.__len__() / mne_raw.info['sfreq']} seconds\")\n",
    "\n",
    "# Validate annotations\n",
    "important_markers = CLA_dataset.get_important_markers(data_file_name)\n",
    "\n",
    "print(f\"\\n\\nFirst annotation starts at {mne_raw.annotations[0]['onset']} seconds and ends at {mne_raw.annotations[0]['onset'] + mne_raw.annotations[0]['duration']} seconds with textual marker: {mne_raw.annotations[0]['description']}\")\n",
    "print(f\"First important marker starts at {important_markers[0].start_idx / mne_raw.info['sfreq']} seconds and ends at {important_markers[0].end_idx / mne_raw.info['sfreq']} seconds with textual marker: {CLA_dataset.marker_to_textual_dict[important_markers[0].mark]}\")\n",
    "\n",
    "\n",
    "print(f\"\\nSecond annotation starts at {mne_raw.annotations[1]['onset']} seconds and ends at {mne_raw.annotations[1]['onset'] + mne_raw.annotations[1]['duration']} seconds with textual marker: {mne_raw.annotations[1]['description']}\")\n",
    "print(f\"Second important marker starts at {important_markers[1].start_idx / mne_raw.info['sfreq']} seconds and ends at {important_markers[1].end_idx / mne_raw.info['sfreq']} seconds with textual marker: {CLA_dataset.marker_to_textual_dict[important_markers[1].mark]}\")\n",
    "\n",
    "\n",
    "print(f\"\\nAnnotation 500 starts at {mne_raw.annotations[500]['onset']} seconds and ends at {mne_raw.annotations[500]['onset'] + mne_raw.annotations[500]['duration']} seconds with textual marker: {mne_raw.annotations[500]['description']}\")\n",
    "print(f\"Important marker 500 starts at {important_markers[500].start_idx / mne_raw.info['sfreq']} seconds and ends at {important_markers[500].end_idx / mne_raw.info['sfreq']} seconds with textual marker: {CLA_dataset.marker_to_textual_dict[important_markers[500].mark]}\")\n",
    "\n",
    "\n",
    "print(f\"\\nAnnotation 1000 starts at {mne_raw.annotations[1000]['onset']} seconds and ends at {mne_raw.annotations[1000]['onset'] + mne_raw.annotations[1000]['duration']} seconds with textual marker: {mne_raw.annotations[1000]['description']}\")\n",
    "print(f\"Important marker 1000 starts at {important_markers[1000].start_idx / mne_raw.info['sfreq']} seconds and ends at {important_markers[1000].end_idx / mne_raw.info['sfreq']} seconds with textual marker: {CLA_dataset.marker_to_textual_dict[important_markers[1000].mark]}\")\n",
    "\n",
    "# Validate events\n",
    "mne_events, mne_event_conversion_dict = CLA_dataset.get_events_and_dict_from_annotated_raw(mne_raw)\n",
    "\n",
    "print(f\"\\n\\nFirst event starts at sample {mne_events[0][0]} with marker {mne_events[0][2]}\")\n",
    "print(f\"First important marker starts at sample {important_markers[0].start_idx} with marker {important_markers[0].mark}\")\n",
    "\n",
    "print(f\"\\nSecond event starts at sample {mne_events[1][0]} with marker {mne_events[1][2]}\")\n",
    "print(f\"Second important marker starts at sample {important_markers[1].start_idx} with marker {important_markers[1].mark}\")\n",
    "\n",
    "print(f\"\\nEvent 500 starts at sample {mne_events[500][0]} with marker {mne_events[500][2]}\")\n",
    "print(f\"Important marker 500 starts at sample {important_markers[500].start_idx} with marker {important_markers[500].mark}\")\n",
    "\n",
    "print(f\"\\nEvent 1000 starts at sample {mne_events[1000][0]} with marker {mne_events[1000][2]}\")\n",
    "print(f\"Important marker 1000 starts at sample {important_markers[1000].start_idx} with marker {important_markers[1000].mark}\")\n",
    "\n",
    "\n",
    "# Remove unused variables\n",
    "del important_markers\n",
    "del mne_event_conversion_dict\n",
    "del mne_events\n"
   ]
  },
  {
   "cell_type": "markdown",
   "id": "5fdad109",
   "metadata": {},
   "source": [
    "<hr><hr>\n",
    "\n",
    "## Visualising the data\n",
    "\n",
    "Throughout experimental notebooks one, two and three, multiple visualisations of the data were made.\n",
    "In what follows we repeat the most important visualisations which are also used or discussed throughout the paper.\n",
    "\n",
    "<hr>\n",
    "\n",
    "### Important markers"
   ]
  },
  {
   "cell_type": "code",
   "execution_count": 15,
   "id": "ffd2eb11",
   "metadata": {},
   "outputs": [
    {
     "name": "stdout",
     "output_type": "stream",
     "text": [
      "info/blank_screen\n"
     ]
    },
    {
     "data": {
      "image/png": "[encoded data removed]",
      "text/plain": [
       "<Figure size 648x216 with 1 Axes>"
      ]
     },
     "metadata": {
      "needs_background": "light"
     },
     "output_type": "display_data"
    }
   ],
   "source": [
    "####################################################\n",
    "# PLOTTING IMPORTANT MARKERS\n",
    "####################################################\n",
    "\n",
    "# Get the important markers of a file\n",
    "important_markers = CLA_dataset.get_important_markers(filename = data_file_name)\n",
    "\n",
    "print(CLA_dataset.marker_to_textual_dict[important_markers[0].mark])\n",
    "\n",
    "# Open plot inline\n",
    "%matplotlib inline\n",
    "\n",
    "# Data for plotting\n",
    "subset_important_markers = important_markers[50:75]\n",
    "\n",
    "# Setup canvas\n",
    "plt.rcParams[\"figure.figsize\"] = (9,3)\n",
    "\n",
    "# Plotting code\n",
    "x = sum([[x.start_idx, x.end_idx] for x in subset_important_markers], [])\n",
    "y = sum([[CLA_dataset.marker_to_textual_dict[y.mark], CLA_dataset.marker_to_textual_dict[y.mark]] for y in subset_important_markers], [])\n",
    "\n",
    "fig, ax = plt.subplots()\n",
    "ax.plot(x, y)\n",
    "\n",
    "ax.set(xlabel='timestep (Hz)', ylabel='Marker',\n",
    "       title='Evolution of marker over time')\n",
    "\n",
    "# Only show every 1 in 2 x points\n",
    "plt.xticks(x[1::2])\n",
    "plt.yticks([0, 1, 2, 3])\n",
    "plt.setp(ax.get_xticklabels(), rotation=90, horizontalalignment='right')\n",
    "\n",
    "# Save plot\n",
    "plt.rcParams['savefig.facecolor']='white'\n",
    "plt.tight_layout()\n",
    "#plt.savefig('figures/1/markers_evolution.png', dpi=300)\n",
    "\n",
    "plt.show()\n",
    " \n",
    "# Cleaning up redundant variables from this codeblock\n",
    "del subset_important_markers\n",
    "del fig\n",
    "del ax\n",
    "del x\n",
    "del y\n",
    "\n",
    "# Reset canvas\n",
    "plt.rcParams.update(plt.rcParamsDefault)\n",
    "\n",
    "# Delete unused vars\n",
    "del important_markers"
   ]
  },
  {
   "cell_type": "markdown",
   "id": "5fdad109",
   "metadata": {},
   "source": [
    "<hr>\n",
    "\n",
    "### Raw EEG data"
   ]
  },
  {
   "cell_type": "code",
   "execution_count": 16,
   "id": "ffd2eb11",
   "metadata": {},
   "outputs": [
    {
     "name": "stdout",
     "output_type": "stream",
     "text": [
      "Opening raw-browser...\n"
     ]
    }
   ],
   "source": [
    "####################################################\n",
    "# BASIC PLOTTING OF MNE DATA PT 2\n",
    "####################################################\n",
    "\n",
    "# Plot inline or in popup\n",
    "%matplotlib inline\n",
    "# %matplotlib qt \n",
    "\n",
    "# Reset canvas\n",
    "plt.rcParams.update(plt.rcParamsDefault)\n",
    "\n",
    "# Get important marker\n",
    "important_markers = CLA_dataset.get_important_markers(filename = data_file_name)\n",
    "\n",
    "# Determine start of interest in seconds\n",
    "start = important_markers[50].start_idx / 200\n",
    "\n",
    "# Default plot function scaled to usable visualisation of 30 seconds of data \n",
    "mne_raw.plot(duration=30,\n",
    "             start=start,\n",
    "             scalings=dict(eeg=0.00035),\n",
    "             n_channels=22)\n",
    "\n",
    "# Save plot\n",
    "plt.tight_layout()\n",
    "#plt.savefig('figures/1/eeg.png', dpi=300)\n",
    "\n",
    "# Show plot\n",
    "plt.show()\n",
    "\n",
    "# delete unused vars\n",
    "del start\n",
    "del important_markers"
   ]
  },
  {
   "cell_type": "markdown",
   "id": "fc19312b",
   "metadata": {},
   "source": [
    "<hr>\n",
    "\n",
    "### PSD"
   ]
  },
  {
   "cell_type": "code",
   "execution_count": null,
   "id": "ffd2eb11",
   "metadata": {},
   "outputs": [
    {
     "name": "stdout",
     "output_type": "stream",
     "text": [
      "Effective window size : 10.240 (s)\n"
     ]
    },
    {
     "data": {
      "image/png": "[encoded data removed]",
      "text/plain": [
       "<MNELineFigure size 720x252 with 2 Axes>"
      ]
     },
     "metadata": {
      "needs_background": "light"
     },
     "output_type": "display_data"
    }
   ],
   "source": [
    "####################################################\n",
    "# PSD plot\n",
    "####################################################\n",
    "\n",
    "# Plot inline or in popup\n",
    "%matplotlib inline\n",
    "# %matplotlib qt \n",
    "\n",
    "# Get important markers\n",
    "important_markers = CLA_dataset.get_important_markers(filename = data_file_name)\n",
    "\n",
    "# PSD plot for max allowed frequency taking into account nyquist theorem\n",
    "## Show 300 seconds of data\n",
    "max_freq = mne_raw.info['sfreq'] / 2\n",
    "mne_raw.plot_psd(fmax=max_freq, \n",
    "                 tmin= (important_markers[50].start_idx/200),\n",
    "                 tmax=((important_markers[50].start_idx/200) + 30),\n",
    "                 picks=[\"C3\", \"Cz\", \"C4\"]\n",
    "                 )\n",
    "\n",
    "# Remove unused variables\n",
    "del max_freq\n",
    "del important_markers"
   ]
  },
  {
   "cell_type": "markdown",
   "id": "b2670d9c",
   "metadata": {},
   "source": [
    "<hr><hr>\n",
    "\n",
    "## Cleaning resedual notebook variables\n",
    "\n",
    "This last codeblock cleans any resedual notebook variables."
   ]
  },
  {
   "cell_type": "code",
   "execution_count": 9,
   "id": "7a9d39a7",
   "metadata": {},
   "outputs": [],
   "source": [
    "####################################################\n",
    "# CLEAN NOTEBOOK VARIABLES\n",
    "####################################################\n",
    "\n",
    "del data_file_name\n",
    "del mne_raw\n"
   ]
  },
  {
   "cell_type": "code",
   "execution_count": null,
   "id": "b7b02c21",
   "metadata": {},
   "outputs": [],
   "source": []
  }
 ],
 "metadata": {
  "kernelspec": {
   "display_name": "Python 3.8.10 ('bci-master-thesis')",
   "language": "python",
   "name": "python3"
  },
  "language_info": {
   "codemirror_mode": {
    "name": "ipython",
    "version": 3
   },
   "file_extension": ".py",
   "mimetype": "text/x-python",
   "name": "python",
   "nbconvert_exporter": "python",
   "pygments_lexer": "ipython3",
   "version": "3.8.10"
  },
  "vscode": {
   "interpreter": {
    "hash": "84064af20c740daff42ac3b3e9f22c9848b19c2b0c948f28e817991b26c67d86"
   }
  }
 },
 "nbformat": 4,
 "nbformat_minor": 5
}
