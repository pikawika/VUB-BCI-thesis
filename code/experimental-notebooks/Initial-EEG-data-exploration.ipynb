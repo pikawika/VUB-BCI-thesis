{
 "cells": [
  {
   "cell_type": "markdown",
   "id": "337221df",
   "metadata": {},
   "source": [
    "# Initial EEG data exploration\n",
    "\n",
    "In this notebook we perform some initial data exploration. It does not have a direct link to the paper but was used to explore EEG data.\n",
    "\n",
    "The GitHub repository of this project is available [here](https://www.github.com/pikawika/bci-master-thesis). We make use of a database provided by by [Kaya et al.](https://doi.org/10.1038/sdata.2018.211) is used. It can be downloaded from [here](https://doi.org/10.6084/m9.figshare.c.3917698.v1). Some of the code is inspired by other projects that make use of this database, such as:\n",
    "\n",
    "- [MotorImageryPreprocessing by zafeiriou-arg](https://github.com/zafeiriou-arg/MotorImageryPreprocessing)\n",
    "- [Motor Imagery Classification by sauriii98](https://github.com/sauriii98/Motor-Imagery-Classification)"
   ]
  },
  {
   "cell_type": "markdown",
   "id": "b5341c6d",
   "metadata": {},
   "source": [
    "## Table of Contents\n",
    "\n",
    "- Checking requirements\n",
    "    - Correct anaconda environment\n",
    "    - Correct module access\n",
    "    - Correct file access\n",
    "- Loading in data\n",
    "    - Exploring data structure\n",
    "    - Classification labels"
   ]
  },
  {
   "cell_type": "markdown",
   "id": "292165d3",
   "metadata": {},
   "source": [
    "## Checking requirements"
   ]
  },
  {
   "cell_type": "markdown",
   "id": "7f55ad17",
   "metadata": {},
   "source": [
    "### Correct anaconda environment\n",
    "\n",
    "The `bci-master-thesis` anaconda environment should be active to ensure proper support. Installation instructions are available on the GitHub repository of this project."
   ]
  },
  {
   "cell_type": "code",
   "execution_count": 1,
   "id": "334d5fd4",
   "metadata": {},
   "outputs": [
    {
     "name": "stdout",
     "output_type": "stream",
     "text": [
      "Active environment: bci-master-thesis\n",
      "Correct environment: True\n"
     ]
    }
   ],
   "source": [
    "import os\n",
    "print(\"Active environment: \"+ os.environ['CONDA_DEFAULT_ENV'])\n",
    "print(\"Correct environment: \" + str(os.environ['CONDA_DEFAULT_ENV'] == \"bci-master-thesis\"))"
   ]
  },
  {
   "cell_type": "markdown",
   "id": "22166668",
   "metadata": {},
   "source": [
    "### Correct module access\n",
    "\n",
    "The following codeblock will load in all required modules."
   ]
  },
  {
   "cell_type": "code",
   "execution_count": 2,
   "id": "ab632204",
   "metadata": {},
   "outputs": [],
   "source": [
    "# Performs IO operations\n",
    "import os\n",
    "import scipy.io\n",
    "\n",
    "# MNE package for processing of EEG data\n",
    "import mne\n",
    "\n",
    "# Data manipulation modules\n",
    "import scipy\n",
    "import numpy as np\n",
    "import pandas as pd\n",
    "import math\n",
    "\n",
    "# Plotting modules\n",
    "import matplotlib.pyplot as plt\n",
    "\n",
    "# Other helpfull modules\n",
    "import itertools\n",
    "import random\n",
    "\n",
    "# from mne.io import RawArray\n",
    "# import scipy.io\n",
    "# from mne.filter import filter_data\n",
    "# from scipy.stats import pearsonr\n",
    "# from math import sqrt\n",
    "# from scipy import signal\n",
    "# from scipy.signal import butter, lfilter"
   ]
  },
  {
   "cell_type": "markdown",
   "id": "813bb5de",
   "metadata": {},
   "source": [
    "### Correct file access\n",
    "\n",
    "The dataset provided by [Kaya et al.](https://doi.org/10.1038/sdata.2018.211) is used. It can be downloaded from [here](https://doi.org/10.6084/m9.figshare.c.3917698.v1). The CLA variants are used and all 16 files should be saved under a subfolder `data` of this document. Only a select few will be used for this notebook though, their filenames can be found in the vector filenames."
   ]
  },
  {
   "cell_type": "code",
   "execution_count": 3,
   "id": "caa1d182",
   "metadata": {},
   "outputs": [],
   "source": [
    "# You can specify the data directory here, per default it is under the subfolder data from this file location\n",
    "data_directory = r'data/'"
   ]
  },
  {
   "cell_type": "code",
   "execution_count": 4,
   "id": "724fa572",
   "metadata": {},
   "outputs": [
    {
     "name": "stdout",
     "output_type": "stream",
     "text": [
      "All files are available\n"
     ]
    }
   ],
   "source": [
    "# Files needed for this notebook\n",
    "filenames = [\"CLA-SubjectJ-170504-3St-LRHand-Inter.mat\",\n",
    "            \"CLA-SubjectJ-170508-3St-LRHand-Inter.mat\",\n",
    "            \"CLA-SubjectJ-170510-3St-LRHand-Inter.mat\",\n",
    "            \"CLASubjectA1601083StLRHand.mat\",\n",
    "            \"CLASubjectB1510193StLRHand.mat\",\n",
    "            \"CLASubjectB1512153StLRHand.mat\"]\n",
    "\n",
    "# Check if all files are available, if not display file name of missing file\n",
    "all_files_available = True\n",
    "\n",
    "for filename in filenames:\n",
    "    if (not os.path.isfile(data_directory + filename)):\n",
    "        print(data_directory + filename + \"not available!\")\n",
    "        all_files_available = False\n",
    "\n",
    "# Display succes message if all files are available\n",
    "if (all_files_available):\n",
    "    print(\"All files are available\")\n",
    "    \n",
    "# Cleaning up redundant variables from this codeblock\n",
    "del all_files_available\n",
    "del filenames\n",
    "del filename\n",
    "    \n"
   ]
  },
  {
   "cell_type": "markdown",
   "id": "43a71dde",
   "metadata": {},
   "source": [
    "## Loading in data\n",
    "\n",
    "In this step we load in the data. The data is provided as `.mat` files and thus originally meant for use with MATLAB. However, thanks to scipy we can get them to work in Python as well. Scipy will load in the `.mat` file as a dictionary. From the article by [Kaya et al.](https://doi.org/10.1038/sdata.2018.211) we know:\n",
    "\n",
    "> The data in each file are represented as an instance of a Matlab structure named “o,” having the following key fields “id,” “nS,” “sampFreq,” “marker” and “data”."
   ]
  },
  {
   "cell_type": "code",
   "execution_count": 5,
   "id": "399f5c6e",
   "metadata": {},
   "outputs": [],
   "source": [
    "# you can specify the data file to use here, per default it is CLASubjectA1601083StLRHand.mat\n",
    "data_file_name = r'CLASubjectA1601083StLRHand.mat'"
   ]
  },
  {
   "cell_type": "code",
   "execution_count": 6,
   "id": "ba2b500a",
   "metadata": {
    "scrolled": true
   },
   "outputs": [
    {
     "name": "stdout",
     "output_type": "stream",
     "text": [
      "dict_keys(['__header__', '__version__', '__globals__', 'o'])\n"
     ]
    }
   ],
   "source": [
    "# Load in the file\n",
    "data_raw_full = scipy.io.loadmat(data_directory + data_file_name, struct_as_record=False, squeeze_me=True)\n",
    "\n",
    "# show keys of the dictionary\n",
    "print(data_raw_full.keys())\n",
    "\n",
    "# The data is stored inside the matlab structure named \"o\"\n",
    "data_raw = data_raw_full['o']\n",
    "\n",
    "# Cleaning up redundant variables from this codeblock\n",
    "del data_raw_full"
   ]
  },
  {
   "cell_type": "markdown",
   "id": "145879be",
   "metadata": {},
   "source": [
    "### Exploring data structure\n",
    "\n",
    "The following data is available:\n",
    "\n",
    "- id: A unique alphanumeric identifier of the record\n",
    "- tag: Unknown field\n",
    "   - Was not specified in article\n",
    "- binsuV: Probably bins per microvolt\n",
    "   - Was not specified in article\n",
    "- nS: Number of EEG data samples\n",
    "- sampFreq: Sampling frequency of the EEG data\n",
    "- marker: The eGUI interaction record of the recording session\n",
    "- chnames: Probably channel names of the EEG data sensors/channels in 10/20 configuration\n",
    "   - Was not specified in article\n",
    "- data: The Raw EEG data of the recording session"
   ]
  },
  {
   "cell_type": "code",
   "execution_count": 7,
   "id": "d242a35a",
   "metadata": {},
   "outputs": [
    {
     "name": "stdout",
     "output_type": "stream",
     "text": [
      "id: 201601081851.951FEF1D\n",
      "\n",
      "tag: NK-data import (auto)\n",
      "\n",
      "binsuV: 1\n",
      "\n",
      "nS: 671600\n",
      "\n",
      "sampFreq: 200\n",
      "\n",
      "marker: [0 0 0 ... 0 0 0]\n",
      "marker shape: (671600,)\n",
      "\n",
      "chnames: ['Fp1' 'Fp2' 'F3' 'F4' 'C3' 'C4' 'P3' 'P4' 'O1' 'O2' 'A1' 'A2' 'F7' 'F8'\n",
      " 'T3' 'T4' 'T5' 'T6' 'Fz' 'Cz' 'Pz' 'X5']\n",
      "chnames shape: (22,)\n",
      "\n",
      "data: [[ -0.    -0.    -0.   ...  -0.    -0.    -0.  ]\n",
      " [ -0.    -0.    -0.   ...  -0.    -0.    -0.  ]\n",
      " [ -0.    -0.    -0.   ...  -0.    -0.    -0.  ]\n",
      " ...\n",
      " [ 23.8  -28.4    4.31 ...  -8.31  -6.    -0.23]\n",
      " [ 10.74 -37.39   5.51 ...  -9.34  -5.99  -0.16]\n",
      " [  0.76 -47.95   3.66 ...  -7.32  -4.9   -0.41]]\n",
      "data shape: (671600, 22)\n"
     ]
    }
   ],
   "source": [
    "# We can now access the data in a MATLAB like fashion thanks to the configuration of loadmat\n",
    "print(\"id: \" + str(data_raw.id))\n",
    "print()\n",
    "print(\"tag: \" + str(data_raw.tag))\n",
    "print()\n",
    "print(\"binsuV: \" + str(data_raw.binsuV))\n",
    "print()\n",
    "print(\"nS: \" + str(data_raw.nS))\n",
    "print()\n",
    "print(\"sampFreq: \" + str(data_raw.sampFreq))\n",
    "print()\n",
    "print(\"marker: \" + str(data_raw.marker))\n",
    "print(\"marker shape: \" + str(data_raw.marker.shape))\n",
    "print()\n",
    "print(\"chnames: \" + str(data_raw.chnames))\n",
    "print(\"chnames shape: \" + str(data_raw.chnames.shape))\n",
    "print()\n",
    "print(\"data: \" + str(data_raw.data))\n",
    "print(\"data shape: \" + str(data_raw.data.shape))"
   ]
  },
  {
   "cell_type": "code",
   "execution_count": 8,
   "id": "c3090dca",
   "metadata": {},
   "outputs": [
    {
     "name": "stdout",
     "output_type": "stream",
     "text": [
      "Amount of channel names correspond with amount of channels available(22) True\n",
      "Number of samples corresponds with amount of data records (671600): True\n"
     ]
    }
   ],
   "source": [
    "# If all is correct the following should make sense\n",
    "print(\"Amount of channel names correspond with amount of channels available(\" + str(data_raw.data.shape[1]) +\") \" + str(data_raw.chnames.size == data_raw.data.shape[1]))\n",
    "\n",
    "print(\"Number of samples corresponds with amount of data records (\" + str(data_raw.data.shape[0]) +\"): \" + str(data_raw.nS == data_raw.data.shape[0]))"
   ]
  },
  {
   "cell_type": "markdown",
   "id": "3279ff20",
   "metadata": {},
   "source": [
    "### Classification labels\n",
    "\n",
    "From the article by [Kaya et al.](https://doi.org/10.1038/sdata.2018.211) we know:\n",
    "\n",
    ">The “marker” field contains the recording sessions’ interaction record. This record is in the form of 1D\n",
    "Matlab array of size nSx1, which contains integer values from 0 to 99. Each value encodes the state of the\n",
    "eGUI at the time mapping to the corresponding EEG data sample in the “data” array at the same timeindex location.\n",
    "\n",
    "We see the following codes in the CLA datasets:\n",
    "- 0: “blank” or nothing is displayed in eGUI\n",
    "    - Can be seen as break between stimuli, thus random EEG data that should probably be ignored\n",
    "- 1: Left hand\n",
    "    - EEG data for MI of left hand\n",
    "- 2: Right hand action\n",
    "    - EEG data for MI of right hand\n",
    "- 3: Passive/neutral\n",
    "    - EEG data for MI of neither left or right hand"
   ]
  },
  {
   "cell_type": "code",
   "execution_count": 9,
   "id": "40ae430c",
   "metadata": {},
   "outputs": [
    {
     "data": {
      "text/plain": [
       "{0: 476168, 1: 61490, 2: 69202, 3: 64740}"
      ]
     },
     "execution_count": 9,
     "metadata": {},
     "output_type": "execute_result"
    }
   ],
   "source": [
    "unique, counts = np.unique(data_raw.marker, return_counts=True)\n",
    "dict(zip(unique, counts))"
   ]
  },
  {
   "cell_type": "code",
   "execution_count": null,
   "id": "1b3199f7",
   "metadata": {},
   "outputs": [],
   "source": []
  }
 ],
 "metadata": {
  "kernelspec": {
   "display_name": "Python 3 (ipykernel)",
   "language": "python",
   "name": "python3"
  },
  "language_info": {
   "codemirror_mode": {
    "name": "ipython",
    "version": 3
   },
   "file_extension": ".py",
   "mimetype": "text/x-python",
   "name": "python",
   "nbconvert_exporter": "python",
   "pygments_lexer": "ipython3",
   "version": "3.8.2"
  }
 },
 "nbformat": 4,
 "nbformat_minor": 5
}
