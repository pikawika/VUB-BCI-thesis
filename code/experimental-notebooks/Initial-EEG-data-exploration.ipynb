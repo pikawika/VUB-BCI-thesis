{
 "cells": [
  {
   "cell_type": "markdown",
   "id": "337221df",
   "metadata": {},
   "source": [
    "# Initial EEG data exploration\n",
    "\n",
    "In this notebook we perform some initial data exploration. It does not have a direct link to the paper but was used to explore EEG data.\n",
    "\n",
    "The GitHub repository of this project is available [here](https://www.github.com/pikawika/bci-master-thesis). We make use of a database provided by by [Kaya et al.](https://doi.org/10.1038/sdata.2018.211) is used. It can be downloaded from [here](https://doi.org/10.6084/m9.figshare.c.3917698.v1). Some of the code is inspired by other projects that make use of this database, if code is copied it will be clearly stated. These sources are:\n",
    "\n",
    "- [MotorImageryPreprocessing by zafeiriou-arg](https://github.com/zafeiriou-arg/MotorImageryPreprocessing)\n",
    "- [Motor Imagery Classification by sauriii98](https://github.com/sauriii98/Motor-Imagery-Classification)"
   ]
  },
  {
   "cell_type": "markdown",
   "id": "b5341c6d",
   "metadata": {},
   "source": [
    "## Table of Contents\n",
    "\n",
    "- Checking requirements\n",
    "    - Correct anaconda environment\n",
    "    - Correct module access\n",
    "    - Correct file access\n",
    "- Loading in data\n",
    "    - Exploring data structure\n",
    "    - Classification labels\n",
    "    - Making MNE object\n",
    "    - Making basic plots"
   ]
  },
  {
   "cell_type": "markdown",
   "id": "292165d3",
   "metadata": {},
   "source": [
    "<hr><hr>\n",
    "\n",
    "## Checking requirements"
   ]
  },
  {
   "cell_type": "markdown",
   "id": "7f55ad17",
   "metadata": {},
   "source": [
    "### Correct anaconda environment\n",
    "\n",
    "The `bci-master-thesis` anaconda environment should be active to ensure proper support. Installation instructions are available on the GitHub repository of this project."
   ]
  },
  {
   "cell_type": "code",
   "execution_count": 1,
   "id": "334d5fd4",
   "metadata": {},
   "outputs": [
    {
     "name": "stdout",
     "output_type": "stream",
     "text": [
      "Active environment: bci-master-thesis\n",
      "Correct environment: True\n"
     ]
    }
   ],
   "source": [
    "import os\n",
    "print(\"Active environment: \"+ os.environ['CONDA_DEFAULT_ENV'])\n",
    "print(\"Correct environment: \" + str(os.environ['CONDA_DEFAULT_ENV'] == \"bci-master-thesis\"))"
   ]
  },
  {
   "cell_type": "markdown",
   "id": "22166668",
   "metadata": {},
   "source": [
    "<hr>\n",
    "\n",
    "### Correct module access\n",
    "\n",
    "The following codeblock will load in all required modules."
   ]
  },
  {
   "cell_type": "code",
   "execution_count": 2,
   "id": "ab632204",
   "metadata": {},
   "outputs": [],
   "source": [
    "# Performs IO operations\n",
    "import os\n",
    "import scipy.io\n",
    "\n",
    "# Modules tailored for EEG data\n",
    "import mne\n",
    "\n",
    "# Data manipulation modules\n",
    "import numpy as np\n",
    "# import scipy\n",
    "# import pandas as pd\n",
    "# import math\n",
    "\n",
    "# Datetime object\n",
    "import datetime\n",
    "import pytz\n",
    "\n",
    "# Plotting modules\n",
    "# import matplotlib.pyplot as plt\n",
    "\n",
    "# Other helpfull modules\n",
    "# import itertools\n",
    "# import random\n",
    "\n",
    "\n",
    "\n",
    "\n",
    "# from mne.io import RawArray\n",
    "# import scipy.io\n",
    "# from mne.filter import filter_data\n",
    "# from scipy.stats import pearsonr\n",
    "# from math import sqrt\n",
    "# from scipy import signal\n",
    "# from scipy.signal import butter, lfilter"
   ]
  },
  {
   "cell_type": "markdown",
   "id": "813bb5de",
   "metadata": {},
   "source": [
    "<hr>\n",
    "\n",
    "### Correct file access\n",
    "\n",
    "The dataset provided by [Kaya et al.](https://doi.org/10.1038/sdata.2018.211) is used. It can be downloaded from [here](https://doi.org/10.6084/m9.figshare.c.3917698.v1). The CLA variants are used and all 16 files should be saved under a subfolder `data` of this document. Only a select few will be used for this notebook though, their filenames can be found in the vector filenames."
   ]
  },
  {
   "cell_type": "code",
   "execution_count": 3,
   "id": "caa1d182",
   "metadata": {},
   "outputs": [],
   "source": [
    "# You can specify the data directory here, per default it is under the subfolder data from this file location\n",
    "data_directory = r'data/'"
   ]
  },
  {
   "cell_type": "code",
   "execution_count": 4,
   "id": "724fa572",
   "metadata": {},
   "outputs": [
    {
     "name": "stdout",
     "output_type": "stream",
     "text": [
      "All files are available\n"
     ]
    }
   ],
   "source": [
    "# Files needed for this notebook\n",
    "filenames = [\"CLA-SubjectJ-170504-3St-LRHand-Inter.mat\",\n",
    "            \"CLA-SubjectJ-170508-3St-LRHand-Inter.mat\",\n",
    "            \"CLA-SubjectJ-170510-3St-LRHand-Inter.mat\",\n",
    "            \"CLASubjectA1601083StLRHand.mat\",\n",
    "            \"CLASubjectB1510193StLRHand.mat\",\n",
    "            \"CLASubjectB1512153StLRHand.mat\"]\n",
    "\n",
    "# Check if all files are available, if not display file name of missing file\n",
    "all_files_available = True\n",
    "\n",
    "for filename in filenames:\n",
    "    if (not os.path.isfile(data_directory + filename)):\n",
    "        print(data_directory + filename + \"not available!\")\n",
    "        all_files_available = False\n",
    "\n",
    "# Display succes message if all files are available\n",
    "if (all_files_available):\n",
    "    print(\"All files are available\")\n",
    "    \n",
    "# Cleaning up redundant variables from this codeblock\n",
    "del all_files_available\n",
    "del filenames\n",
    "del filename\n",
    "    \n"
   ]
  },
  {
   "cell_type": "markdown",
   "id": "43a71dde",
   "metadata": {},
   "source": [
    "<hr><hr>\n",
    "\n",
    "## Loading in data\n",
    "\n",
    "In this step we load in the data. The data is provided as `.mat` files and thus originally meant for use with MATLAB. However, thanks to scipy we can get them to work in Python as well. Scipy will load in the `.mat` file as a dictionary. From the article by [Kaya et al.](https://doi.org/10.1038/sdata.2018.211) we know:\n",
    "\n",
    "> The data in each file are represented as an instance of a Matlab structure named “o,” having the following key fields “id,” “nS,” “sampFreq,” “marker” and “data”.\n",
    "\n",
    "Please specify the filename and metadate in the below codeblock. For more info one can look at the `data\\Data_description.txt` file."
   ]
  },
  {
   "cell_type": "code",
   "execution_count": 5,
   "id": "399f5c6e",
   "metadata": {},
   "outputs": [],
   "source": [
    "# You can specify the data file to use here, per default it is CLASubjectA1601083StLRHand.mat\n",
    "data_file_name = r'CLASubjectA1601083StLRHand.mat'\n",
    "\n",
    "# Specify the metadata\n",
    "data_meta_date = datetime.datetime(2016, 1, 8, 0, 0, 0, 0, pytz.UTC).timestamp()\n",
    "data_meta_sex = 1 # 0=unknown, 1=male, 2=female\n",
    "data_meta_age = \"20 - 25\"\n",
    "\n",
    "# Correct date format\n",
    "data_meta_date = datetime.datetime.fromtimestamp(data_meta_date,tz=datetime.timezone.utc)"
   ]
  },
  {
   "cell_type": "code",
   "execution_count": 6,
   "id": "ba2b500a",
   "metadata": {
    "scrolled": true
   },
   "outputs": [
    {
     "name": "stdout",
     "output_type": "stream",
     "text": [
      "dict_keys(['__header__', '__version__', '__globals__', 'o'])\n"
     ]
    }
   ],
   "source": [
    "# Load in the file\n",
    "data_raw_full = scipy.io.loadmat(data_directory + data_file_name, struct_as_record=False, squeeze_me=True)\n",
    "\n",
    "# show keys of the dictionary\n",
    "print(data_raw_full.keys())\n",
    "\n",
    "# The data is stored inside the matlab structure named \"o\"\n",
    "data_raw = data_raw_full['o']\n",
    "\n",
    "# Cleaning up redundant variables from this codeblock\n",
    "del data_raw_full"
   ]
  },
  {
   "cell_type": "markdown",
   "id": "145879be",
   "metadata": {},
   "source": [
    "<hr>\n",
    "\n",
    "### Exploring data structure\n",
    "\n",
    "The following data is available:\n",
    "\n",
    "- id: A unique alphanumeric identifier of the record\n",
    "- tag: Unknown field\n",
    "   - Was not specified in article\n",
    "- binsuV: Probably bins per microvolt\n",
    "   - Was not specified in article\n",
    "- nS: Number of EEG data samples\n",
    "- sampFreq: Sampling frequency of the EEG data\n",
    "- marker: The eGUI interaction record of the recording session\n",
    "- chnames: Probably channel names of the EEG data sensors/channels in 10/20 configuration\n",
    "   - Was not specified in article\n",
    "- data: The Raw EEG data of the recording session"
   ]
  },
  {
   "cell_type": "code",
   "execution_count": 7,
   "id": "d242a35a",
   "metadata": {},
   "outputs": [
    {
     "name": "stdout",
     "output_type": "stream",
     "text": [
      "id: 201601081851.951FEF1D\n",
      "\n",
      "tag: NK-data import (auto)\n",
      "\n",
      "binsuV: 1\n",
      "\n",
      "nS: 671600\n",
      "\n",
      "sampFreq: 200\n",
      "\n",
      "marker: [0 0 0 ... 0 0 0]\n",
      "marker shape: (671600,)\n",
      "\n",
      "chnames: ['Fp1' 'Fp2' 'F3' 'F4' 'C3' 'C4' 'P3' 'P4' 'O1' 'O2' 'A1' 'A2' 'F7' 'F8'\n",
      " 'T3' 'T4' 'T5' 'T6' 'Fz' 'Cz' 'Pz' 'X5']\n",
      "chnames shape: (22,)\n",
      "\n",
      "data: [[ -0.    -0.    -0.   ...  -0.    -0.    -0.  ]\n",
      " [ -0.    -0.    -0.   ...  -0.    -0.    -0.  ]\n",
      " [ -0.    -0.    -0.   ...  -0.    -0.    -0.  ]\n",
      " ...\n",
      " [ 23.8  -28.4    4.31 ...  -8.31  -6.    -0.23]\n",
      " [ 10.74 -37.39   5.51 ...  -9.34  -5.99  -0.16]\n",
      " [  0.76 -47.95   3.66 ...  -7.32  -4.9   -0.41]]\n",
      "data shape: (671600, 22)\n"
     ]
    }
   ],
   "source": [
    "# We can now access the data in a MATLAB like fashion thanks to the configuration of loadmat\n",
    "print(\"id: \" + str(data_raw.id))\n",
    "print()\n",
    "print(\"tag: \" + str(data_raw.tag))\n",
    "print()\n",
    "print(\"binsuV: \" + str(data_raw.binsuV))\n",
    "print()\n",
    "print(\"nS: \" + str(data_raw.nS))\n",
    "print()\n",
    "print(\"sampFreq: \" + str(data_raw.sampFreq))\n",
    "print()\n",
    "print(\"marker: \" + str(data_raw.marker))\n",
    "print(\"marker shape: \" + str(data_raw.marker.shape))\n",
    "print()\n",
    "print(\"chnames: \" + str(data_raw.chnames))\n",
    "print(\"chnames shape: \" + str(data_raw.chnames.shape))\n",
    "print()\n",
    "print(\"data: \" + str(data_raw.data))\n",
    "print(\"data shape: \" + str(data_raw.data.shape))"
   ]
  },
  {
   "cell_type": "code",
   "execution_count": 8,
   "id": "c3090dca",
   "metadata": {},
   "outputs": [
    {
     "name": "stdout",
     "output_type": "stream",
     "text": [
      "Amount of channel names correspond with amount of channels available(22) True\n",
      "Number of samples corresponds with amount of data records (671600): True\n"
     ]
    }
   ],
   "source": [
    "# If all is correct the following should make sense\n",
    "print(\"Amount of channel names correspond with amount of channels available(\" + str(data_raw.data.shape[1]) +\") \" + str(data_raw.chnames.size == data_raw.data.shape[1]))\n",
    "\n",
    "print(\"Number of samples corresponds with amount of data records (\" + str(data_raw.data.shape[0]) +\"): \" + str(data_raw.nS == data_raw.data.shape[0]))"
   ]
  },
  {
   "cell_type": "markdown",
   "id": "3279ff20",
   "metadata": {},
   "source": [
    "<hr>\n",
    "\n",
    "### Classification labels\n",
    "\n",
    "From the article by [Kaya et al.](https://doi.org/10.1038/sdata.2018.211) we know:\n",
    "\n",
    ">The “marker” field contains the recording sessions’ interaction record. This record is in the form of 1D\n",
    "Matlab array of size nSx1, which contains integer values from 0 to 99. Each value encodes the state of the\n",
    "eGUI at the time mapping to the corresponding EEG data sample in the “data” array at the same timeindex location.\n",
    "\n",
    "We see the following codes in the CLA datasets:\n",
    "- 0: “blank” or nothing is displayed in eGUI\n",
    "    - Can be seen as break between stimuli, thus random EEG data that should probably be ignored\n",
    "- 1: Left hand\n",
    "    - EEG data for MI of left hand\n",
    "- 2: Right hand action\n",
    "    - EEG data for MI of right hand\n",
    "- 3: Passive/neutral\n",
    "    - EEG data for MI of neither left or right hand"
   ]
  },
  {
   "cell_type": "code",
   "execution_count": 9,
   "id": "40ae430c",
   "metadata": {},
   "outputs": [
    {
     "data": {
      "text/plain": [
       "{0: 476168, 1: 61490, 2: 69202, 3: 64740}"
      ]
     },
     "execution_count": 9,
     "metadata": {},
     "output_type": "execute_result"
    }
   ],
   "source": [
    "unique, counts = np.unique(data_raw.marker, return_counts=True)\n",
    "dict(zip(unique, counts))"
   ]
  },
  {
   "cell_type": "markdown",
   "id": "4bcbe994",
   "metadata": {},
   "source": [
    "<hr>\n",
    "\n",
    "### Making MNE object\n",
    "\n",
    "Having access to all of the data, we can manually make MNE-Python data structures per specification of the [MNE documentation](https://mne.tools/dev/auto_tutorials/simulation/10_array_objs.html). This consist of first making an `MNE info` object which can then be used to create a `raw MNE` object."
   ]
  },
  {
   "cell_type": "markdown",
   "id": "98703a9b",
   "metadata": {},
   "source": [
    "#### Making info object\n",
    "\n",
    "From the article by [Kaya et al.](https://doi.org/10.1038/sdata.2018.211) we know that:\n",
    "> The EEG data acquisition was performed with the help of a standard 10/20 EEG cap (Electro-Cap\n",
    "International, USA) with 19 bridge electrodes in the 10/20 international configuration.\n",
    "\n",
    "However, we see 22 channels are present, and the 10/20 configuration only has 21 channels. We remove the unkown one from the data, namely `X5`.\n",
    "\n",
    "<div>\n",
    "    <img src=\"images/10-20.svg\" width=\"300\"/>\n",
    "    <center><small>By トマトン124 (talk) - Own work, Public Domain, https://commons.wikimedia.org/w/index.php?curid=10489987</small></center>\n",
    "</div>"
   ]
  },
  {
   "cell_type": "code",
   "execution_count": 10,
   "id": "9bfebea7",
   "metadata": {},
   "outputs": [
    {
     "data": {
      "text/plain": [
       "array(['Fp1', 'Fp2', 'F3', 'F4', 'C3', 'C4', 'P3', 'P4', 'O1', 'O2', 'A1',\n",
       "       'A2', 'F7', 'F8', 'T3', 'T4', 'T5', 'T6', 'Fz', 'Cz', 'Pz', 'X5'],\n",
       "      dtype=object)"
      ]
     },
     "execution_count": 10,
     "metadata": {},
     "output_type": "execute_result"
    }
   ],
   "source": [
    "# Check the present channels, and conclude X5 is not in 10/20 convention\n",
    "data_raw.chnames"
   ]
  },
  {
   "cell_type": "code",
   "execution_count": 11,
   "id": "b4a3615b",
   "metadata": {
    "scrolled": false
   },
   "outputs": [
    {
     "name": "stdout",
     "output_type": "stream",
     "text": [
      "<Info | 11 non-empty values\n",
      " bads: []\n",
      " ch_names: Fp1, Fp2, F3, F4, C3, C4, P3, P4, O1, O2, A1, A2, F7, F8, T3, ...\n",
      " chs: 21 EEG\n",
      " custom_ref_applied: False\n",
      " description: Data from CLASubjectA1601083StLRHand.mat\n",
      " dig: 24 items (3 Cardinal, 21 EEG)\n",
      " experimenter: Kaya et al.\n",
      " highpass: 0.0 Hz\n",
      " lowpass: 100.0 Hz\n",
      " meas_date: 2016-01-08 00:00:00 UTC\n",
      " nchan: 21\n",
      " projs: []\n",
      " sfreq: 200.0 Hz\n",
      " subject_info: 2 items (dict)\n",
      ">\n"
     ]
    },
    {
     "data": {
      "text/html": [
       "\n",
       "<table class=\"table table-hover\">\n",
       "    <tr>\n",
       "        <th>Measurement date</th>\n",
       "        <td>January 08, 2016  00:00:00 GMT</td>\n",
       "        \n",
       "    </tr>\n",
       "    <tr>\n",
       "        <th>Experimenter</th>\n",
       "        <td>Kaya et al.</td>\n",
       "        \n",
       "    </tr>\n",
       "        <th>Participant</th>\n",
       "            <td>201601081851.951FEF1D</td>\n",
       "        \n",
       "    </tr>\n",
       "    <tr>\n",
       "        <th>Digitized points</th>\n",
       "        <td>24 points</td>\n",
       "    </tr>\n",
       "    <tr>\n",
       "        <th>Good channels</th>\n",
       "        <td>0 magnetometer, 0 gradiometer,\n",
       "            and 21 EEG channels</td>\n",
       "    </tr>\n",
       "    <tr>\n",
       "        <th>Bad channels</th>\n",
       "        <td></td>\n",
       "        \n",
       "    </tr>\n",
       "    <tr>\n",
       "        <th>EOG channels</th>\n",
       "        <td>Not available</td>\n",
       "    </tr>\n",
       "    <tr>\n",
       "        <th>ECG channels</th>\n",
       "        <td>Not available</td>\n",
       "    <tr>\n",
       "        <th>Sampling frequency</th>\n",
       "        <td>200.00 Hz</td>\n",
       "    </tr>\n",
       "    <tr>\n",
       "        <th>Highpass</th>\n",
       "        <td>0.00 Hz</td>\n",
       "    </tr>\n",
       "     <tr>\n",
       "        <th>Lowpass</th>\n",
       "        <td>100.00 Hz</td>\n",
       "    </tr>\n",
       "</table>\n"
      ],
      "text/plain": [
       "<Info | 11 non-empty values\n",
       " bads: []\n",
       " ch_names: Fp1, Fp2, F3, F4, C3, C4, P3, P4, O1, O2, A1, A2, F7, F8, T3, ...\n",
       " chs: 21 EEG\n",
       " custom_ref_applied: False\n",
       " description: Data from CLASubjectA1601083StLRHand.mat\n",
       " dig: 24 items (3 Cardinal, 21 EEG)\n",
       " experimenter: Kaya et al.\n",
       " highpass: 0.0 Hz\n",
       " lowpass: 100.0 Hz\n",
       " meas_date: 2016-01-08 00:00:00 UTC\n",
       " nchan: 21\n",
       " projs: []\n",
       " sfreq: 200.0 Hz\n",
       " subject_info: 2 items (dict)\n",
       ">"
      ]
     },
     "execution_count": 11,
     "metadata": {},
     "output_type": "execute_result"
    }
   ],
   "source": [
    "# Remove X5 (last element) from the channel names and use it as input for the info object\n",
    "mne_ch_names = data_raw.chnames.tolist()\n",
    "mne_ch_names.pop(-1)\n",
    "\n",
    "# All of the sensors are EEG\n",
    "mne_ch_types = ['eeg'] * len(mne_ch_names)\n",
    "\n",
    "# The sampling frequency is given\n",
    "mne_sfreq = data_raw.sampFreq\n",
    "\n",
    "# Create info object\n",
    "mne_info = mne.create_info(ch_names=mne_ch_names, ch_types=mne_ch_types, sfreq=mne_sfreq)\n",
    "\n",
    "# Configure it to be the 10/20 convention\n",
    "mne_info.set_montage('standard_1020')\n",
    "\n",
    "# Set some other meta fields\n",
    "mne_info['description'] = 'Data from ' + data_file_name\n",
    "mne_info['experimenter'] = 'Kaya et al.'\n",
    "mne_info['meas_date'] = data_meta_date\n",
    "mne_info['subject_info'] = {\n",
    "    \"his_id\": data_raw.id,\n",
    "    \"sex\": data_meta_sex\n",
    "}\n",
    "\n",
    "# Cleaning up redundant variables from this codeblock\n",
    "del mne_ch_names\n",
    "del mne_ch_types\n",
    "del mne_sfreq\n",
    "\n",
    "\n",
    "# Show the info object\n",
    "print(mne_info)\n",
    "mne_info"
   ]
  },
  {
   "cell_type": "markdown",
   "id": "90cef749",
   "metadata": {},
   "source": [
    "#### Making raw object\n",
    "\n",
    "Having the info object, we can create the raw object. First we need to alter the data a bit so the `X5` channel is removed and the matrix is transposed."
   ]
  },
  {
   "cell_type": "code",
   "execution_count": 12,
   "id": "613a2308",
   "metadata": {},
   "outputs": [
    {
     "name": "stdout",
     "output_type": "stream",
     "text": [
      "Before X5 remove (last element)\n",
      "(671600, 22)\n",
      "[ -0.9   25.43  -0.19   7.1   -0.64   1.06  -1.82  -2.7  -11.52  -8.27\n",
      "  10.27  12.97  -1.99   9.13   3.67   1.35  -2.11  -0.46   6.     0.81\n",
      "  -5.58  -0.17]\n",
      "\n",
      "After X5 remove (last element)\n",
      "(671600, 21)\n",
      "[ -0.9   25.43  -0.19   7.1   -0.64   1.06  -1.82  -2.7  -11.52  -8.27\n",
      "  10.27  12.97  -1.99   9.13   3.67   1.35  -2.11  -0.46   6.     0.81\n",
      "  -5.58]\n"
     ]
    }
   ],
   "source": [
    "# Removing X5\n",
    "mne_raw_data = data_raw.data\n",
    "print(\"Before X5 remove (last element)\")\n",
    "print(mne_raw_data.shape)\n",
    "print(mne_raw_data[1100])\n",
    "print()\n",
    "\n",
    "mne_raw_data = mne_raw_data[:, :-1]\n",
    "print(\"After X5 remove (last element)\")\n",
    "print(mne_raw_data.shape)\n",
    "print(mne_raw_data[1100])"
   ]
  },
  {
   "cell_type": "code",
   "execution_count": 13,
   "id": "f42f1a5d",
   "metadata": {},
   "outputs": [
    {
     "name": "stdout",
     "output_type": "stream",
     "text": [
      "Before transpose\n",
      "(671600, 21)\n",
      "Random element: -0.19\n",
      "\n",
      "After transpose\n",
      "(21, 671600)\n",
      "Same random element: -0.19\n"
     ]
    }
   ],
   "source": [
    "# Transposing\n",
    "print(\"Before transpose\")\n",
    "print(mne_raw_data.shape)\n",
    "print(\"Random element: \" + str(mne_raw_data[1100][2]))\n",
    "print()\n",
    "\n",
    "mne_raw_data = mne_raw_data.transpose()\n",
    "print(\"After transpose\")\n",
    "print(mne_raw_data.shape)\n",
    "print(\"Same random element: \" + str(mne_raw_data[2][1100]))"
   ]
  },
  {
   "cell_type": "code",
   "execution_count": 14,
   "id": "e32105d8",
   "metadata": {},
   "outputs": [
    {
     "name": "stdout",
     "output_type": "stream",
     "text": [
      "Creating RawArray with float64 data, n_channels=21, n_times=671600\n",
      "    Range : 0 ... 671599 =      0.000 ...  3357.995 secs\n",
      "Ready.\n"
     ]
    }
   ],
   "source": [
    "# Creating MNE array\n",
    "mne_raw = mne.io.RawArray(mne_raw_data, mne_info)\n",
    "\n",
    "# Cleaning up redundant variables from this codeblock\n",
    "del mne_raw_data\n",
    "del mne_info"
   ]
  },
  {
   "cell_type": "markdown",
   "id": "c73f7ecb",
   "metadata": {},
   "source": [
    "<hr>\n",
    "\n",
    "### Making basic plots\n",
    "\n",
    "Having the raw data we should be able to make some basic plots to validate the data seems loaded in properly. We try this here."
   ]
  },
  {
   "cell_type": "code",
   "execution_count": 15,
   "id": "704080e6",
   "metadata": {},
   "outputs": [
    {
     "name": "stdout",
     "output_type": "stream",
     "text": [
      "plot_sensors\n"
     ]
    },
    {
     "data": {
      "image/png": "[encoded data removed]",
      "text/plain": [
       "<Figure size 432x432 with 1 Axes>"
      ]
     },
     "metadata": {
      "needs_background": "light"
     },
     "output_type": "display_data"
    },
    {
     "name": "stdout",
     "output_type": "stream",
     "text": [
      "plot_psd\n",
      "Effective window size : 10.240 (s)\n"
     ]
    },
    {
     "data": {
      "image/png": "[encoded data removed]",
      "text/plain": [
       "<MNELineFigure size 720x252 with 2 Axes>"
      ]
     },
     "metadata": {
      "needs_background": "light"
     },
     "output_type": "display_data"
    },
    {
     "name": "stdout",
     "output_type": "stream",
     "text": [
      "plot\n"
     ]
    },
    {
     "data": {
      "image/png": "[encoded data removed]",
      "text/plain": [
       "<MNEBrowseFigure size 432x288 with 4 Axes>"
      ]
     },
     "metadata": {
      "needs_background": "light"
     },
     "output_type": "display_data"
    },
    {
     "name": "stdout",
     "output_type": "stream",
     "text": [
      "done plotting\n"
     ]
    }
   ],
   "source": [
    "# Make some plots\n",
    "print(\"plot_sensors\")\n",
    "mne_raw.plot_sensors(kind='3d', ch_type='eeg', ch_groups='position')\n",
    "\n",
    "print(\"plot_psd\")\n",
    "mne_raw.plot_psd(fmax=50)\n",
    "\n",
    "print(\"plot\")\n",
    "mne_raw.plot(duration=5)\n",
    "\n",
    "print(\"done plotting\")"
   ]
  },
  {
   "cell_type": "code",
   "execution_count": null,
   "id": "b4154ae3",
   "metadata": {},
   "outputs": [],
   "source": []
  }
 ],
 "metadata": {
  "kernelspec": {
   "display_name": "Python 3 (ipykernel)",
   "language": "python",
   "name": "python3"
  },
  "language_info": {
   "codemirror_mode": {
    "name": "ipython",
    "version": 3
   },
   "file_extension": ".py",
   "mimetype": "text/x-python",
   "name": "python",
   "nbconvert_exporter": "python",
   "pygments_lexer": "ipython3",
   "version": "3.8.2"
  }
 },
 "nbformat": 4,
 "nbformat_minor": 5
}
