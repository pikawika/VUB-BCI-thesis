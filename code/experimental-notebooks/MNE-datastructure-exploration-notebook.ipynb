{
 "cells": [
  {
   "cell_type": "markdown",
   "id": "337221df",
   "metadata": {},
   "source": [
    "# MNE data structure exploration notebook\n",
    "\n",
    "In this notebook, we explore the possibilities of MNE. MNE is an open-source Python package for exploring, visualizing, and analyzing human neurophysiological data: MEG, EEG, sEEG, ECoG, NIRS, and more. It does not have a direct link to the paper but the expertise gained here is used in the paper.\n",
    "\n",
    "This experimental notebook uses a database provided by [Kaya et al.](https://doi.org/10.1038/sdata.2018.211). The CLA dataset in particular. Instructions on where to get the data are available on [the GitHub repository of the BCI master thesis project](https://www.github.com/pikawika/bci-master-thesis). These instructions are under `bci-master-thesis/code/data/CLA/README.md`. We will use the utility file `bci-master-thesis/code/utils/CLA_dataset.py` to work with this data, which gathered its functions from the experiments performed in `bci-master-thesis/experimental-notebooks/CLA-dataset-exploration-notebook.ipynb`.\n",
    "\n",
    "Some other GitHub projects were found that also use this dataset, some of our code might be based on them. The code that was copied is annotated.  These GitHub projects are:\n",
    "\n",
    "- [MotorImageryPreprocessing by zafeiriou-arg](https://github.com/zafeiriou-arg/MotorImageryPreprocessing)\n",
    "- [Motor Imagery Classification by sauriii98](https://github.com/sauriii98/Motor-Imagery-Classification)"
   ]
  },
  {
   "cell_type": "markdown",
   "id": "b5341c6d",
   "metadata": {},
   "source": [
    "## Table of Contents\n",
    "\n",
    "- Checking requirements\n",
    "    - Correct anaconda environment\n",
    "    - Correct module access\n",
    "    - Correct file access\n",
    "- Loading in data\n",
    "- XXX"
   ]
  },
  {
   "cell_type": "markdown",
   "id": "292165d3",
   "metadata": {},
   "source": [
    "<hr><hr>\n",
    "\n",
    "## Checking requirements"
   ]
  },
  {
   "cell_type": "markdown",
   "id": "7f55ad17",
   "metadata": {},
   "source": [
    "### Correct anaconda environment\n",
    "\n",
    "The `bci-master-thesis` anaconda environment should be active to ensure proper support. Installation instructions are available on [the GitHub repository of the BCI master thesis project](https://www.github.com/pikawika/bci-master-thesis)."
   ]
  },
  {
   "cell_type": "code",
   "execution_count": 1,
   "id": "334d5fd4",
   "metadata": {},
   "outputs": [
    {
     "name": "stdout",
     "output_type": "stream",
     "text": [
      "Active environment: bci-master-thesis\n",
      "Correct environment: True\n"
     ]
    }
   ],
   "source": [
    "import os\n",
    "print(\"Active environment: \"+ os.environ['CONDA_DEFAULT_ENV'])\n",
    "print(\"Correct environment: \" + str(os.environ['CONDA_DEFAULT_ENV'] == \"bci-master-thesis\"))"
   ]
  },
  {
   "cell_type": "markdown",
   "id": "22166668",
   "metadata": {},
   "source": [
    "<hr>\n",
    "\n",
    "### Correct module access\n",
    "\n",
    "The following codeblock will load in all required modules."
   ]
  },
  {
   "cell_type": "code",
   "execution_count": 2,
   "id": "ab632204",
   "metadata": {},
   "outputs": [],
   "source": [
    "# Load util function file\n",
    "import sys\n",
    "sys.path.append('../utils')\n",
    "import CLA_dataset\n",
    "\n",
    "# MNE package we're exploring\n",
    "import mne"
   ]
  },
  {
   "cell_type": "markdown",
   "id": "813bb5de",
   "metadata": {},
   "source": [
    "<hr>\n",
    "\n",
    "### Correct file access\n",
    "\n",
    "As mentioned, this experimental notebook uses a database provided by [Kaya et al](https://doi.org/10.1038/sdata.2018.211). The CLA dataset in particular. Instructions on where to get the data are available on [the GitHub repository of the BCI master thesis project](https://www.github.com/pikawika/bci-master-thesis). These instructions are under `bci-master-thesis/code/data/CLA/README.md`."
   ]
  },
  {
   "cell_type": "code",
   "execution_count": 3,
   "id": "caa1d182",
   "metadata": {},
   "outputs": [
    {
     "name": "stdout",
     "output_type": "stream",
     "text": [
      "Access ok: True\n"
     ]
    }
   ],
   "source": [
    "# Use util to determine if we have access\n",
    "print(\"Access ok: \" + str(CLA_dataset.check_file_availability()))"
   ]
  },
  {
   "cell_type": "markdown",
   "id": "43a71dde",
   "metadata": {},
   "source": [
    "<hr><hr>\n",
    "\n",
    "## Loading in data\n",
    "\n",
    "In this step, we load in the data. The data is provided as `.mat` files and thus originally meant for use with MATLAB. However, thanks to the written `CLA_dataset` util file we can easily get the MNE raw data from it.\n",
    "\n",
    "Please specify the filename in the below codeblock. For more info on which variants are available, please look at the `bci-master-thesis/code/data/CLA/README.md` file."
   ]
  },
  {
   "cell_type": "code",
   "execution_count": 4,
   "id": "399f5c6e",
   "metadata": {},
   "outputs": [],
   "source": [
    "# You can specify the data file to use here, per default it is CLASubjectA1601083StLRHand.mat\n",
    "data_file_name = r'CLASubjectA1601083StLRHand.mat'"
   ]
  },
  {
   "cell_type": "code",
   "execution_count": 8,
   "id": "ba2b500a",
   "metadata": {
    "scrolled": false
   },
   "outputs": [
    {
     "name": "stdout",
     "output_type": "stream",
     "text": [
      "Creating RawArray with float64 data, n_channels=21, n_times=671600\n",
      "    Range : 0 ... 671599 =      0.000 ...  3357.995 secs\n",
      "Ready.\n"
     ]
    },
    {
     "data": {
      "text/html": [
       "\n",
       "<table class=\"table table-hover\">\n",
       "    <tr>\n",
       "        <th>Measurement date</th>\n",
       "        <td>January 08, 2016  00:00:00 GMT</td>\n",
       "        \n",
       "    </tr>\n",
       "    <tr>\n",
       "        <th>Experimenter</th>\n",
       "        <td>Kaya et al.</td>\n",
       "        \n",
       "    </tr>\n",
       "        <th>Participant</th>\n",
       "            <td>201601081851.951FEF1D</td>\n",
       "        \n",
       "    </tr>\n",
       "    <tr>\n",
       "        <th>Digitized points</th>\n",
       "        <td>24 points</td>\n",
       "    </tr>\n",
       "    <tr>\n",
       "        <th>Good channels</th>\n",
       "        <td>0 magnetometer, 0 gradiometer,\n",
       "            and 21 EEG channels</td>\n",
       "    </tr>\n",
       "    <tr>\n",
       "        <th>Bad channels</th>\n",
       "        <td></td>\n",
       "        \n",
       "    </tr>\n",
       "    <tr>\n",
       "        <th>EOG channels</th>\n",
       "        <td>Not available</td>\n",
       "    </tr>\n",
       "    <tr>\n",
       "        <th>ECG channels</th>\n",
       "        <td>Not available</td>\n",
       "    <tr>\n",
       "        <th>Sampling frequency</th>\n",
       "        <td>200.00 Hz</td>\n",
       "    </tr>\n",
       "    <tr>\n",
       "        <th>Highpass</th>\n",
       "        <td>0.00 Hz</td>\n",
       "    </tr>\n",
       "     <tr>\n",
       "        <th>Lowpass</th>\n",
       "        <td>100.00 Hz</td>\n",
       "    </tr>\n",
       "</table>\n"
      ],
      "text/plain": [
       "<Info | 11 non-empty values\n",
       " bads: []\n",
       " ch_names: Fp1, Fp2, F3, F4, C3, C4, P3, P4, O1, O2, A1, A2, F7, F8, T3, ...\n",
       " chs: 21 EEG\n",
       " custom_ref_applied: False\n",
       " description: Data from CLASubjectA1601083StLRHand.mat\n",
       " dig: 24 items (3 Cardinal, 21 EEG)\n",
       " experimenter: Kaya et al.\n",
       " highpass: 0.0 Hz\n",
       " lowpass: 100.0 Hz\n",
       " meas_date: 2016-01-08 00:00:00 UTC\n",
       " nchan: 21\n",
       " projs: []\n",
       " sfreq: 200.0 Hz\n",
       " subject_info: 2 items (dict)\n",
       ">"
      ]
     },
     "execution_count": 8,
     "metadata": {},
     "output_type": "execute_result"
    }
   ],
   "source": [
    "# Load in the file\n",
    "mne_raw = CLA_dataset.get_raw_mne_data(data_file_name)\n",
    "\n",
    "# Show the info\n",
    "mne_raw.info"
   ]
  },
  {
   "cell_type": "markdown",
   "id": "bfc4bb04",
   "metadata": {},
   "source": [
    "<hr><hr>\n",
    "\n",
    "## XXX\n",
    "\n",
    "MNE stuff will happen here"
   ]
  },
  {
   "cell_type": "code",
   "execution_count": null,
   "id": "b4154ae3",
   "metadata": {},
   "outputs": [],
   "source": []
  }
 ],
 "metadata": {
  "kernelspec": {
   "display_name": "Python 3 (ipykernel)",
   "language": "python",
   "name": "python3"
  },
  "language_info": {
   "codemirror_mode": {
    "name": "ipython",
    "version": 3
   },
   "file_extension": ".py",
   "mimetype": "text/x-python",
   "name": "python",
   "nbconvert_exporter": "python",
   "pygments_lexer": "ipython3",
   "version": "3.8.2"
  }
 },
 "nbformat": 4,
 "nbformat_minor": 5
}
