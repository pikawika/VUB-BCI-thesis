{
 "cells": [
  {
   "cell_type": "markdown",
   "id": "337221df",
   "metadata": {},
   "source": [
    "# MNE data structure exploration notebook\n",
    "\n",
    "In this notebook, we explore the possibilities of MNE. MNE is an open-source Python package for exploring, visualizing, and analyzing human neurophysiological data: MEG, EEG, sEEG, ECoG, NIRS, and more. It does not have a direct link to the paper but the expertise gained here is used in the paper.\n",
    "\n",
    "This experimental notebook uses a database provided by [Kaya et al.](https://doi.org/10.1038/sdata.2018.211). The CLA dataset in particular. Instructions on where to get the data are available on [the GitHub repository of the BCI master thesis project](https://www.github.com/pikawika/bci-master-thesis). These instructions are under `bci-master-thesis/code/data/CLA/README.md`. We will use the utility file `bci-master-thesis/code/utils/CLA_dataset.py` to work with this data, which gathered its functions from the experiments performed in `bci-master-thesis/experimental-notebooks/CLA-dataset-exploration-notebook.ipynb`.\n",
    "\n",
    "For this MNE portion we used some of the tips and code samples from Richard Höchenberger's workshop on MNE Python:\n",
    "- [Pybrain: M/EEG analysis with MNE Python](https://www.youtube.com/watch?v=t-twhNqgfSY)"
   ]
  },
  {
   "cell_type": "markdown",
   "id": "b5341c6d",
   "metadata": {},
   "source": [
    "## Table of Contents\n",
    "\n",
    "- Checking requirements\n",
    "    - Correct anaconda environment\n",
    "    - Correct module access\n",
    "    - Correct file access\n",
    "- Loading in data\n",
    "- Finding important markers\n",
    "    - Loop for retreiving important markers\n",
    "    - Analysing important markers\n",
    "    - Plotting important markers\n",
    "- Plotting raw EEG data with MNE"
   ]
  },
  {
   "cell_type": "markdown",
   "id": "292165d3",
   "metadata": {},
   "source": [
    "<hr><hr>\n",
    "\n",
    "## Checking requirements"
   ]
  },
  {
   "cell_type": "markdown",
   "id": "7f55ad17",
   "metadata": {},
   "source": [
    "### Correct anaconda environment\n",
    "\n",
    "The `bci-master-thesis` anaconda environment should be active to ensure proper support. Installation instructions are available on [the GitHub repository of the BCI master thesis project](https://www.github.com/pikawika/bci-master-thesis)."
   ]
  },
  {
   "cell_type": "code",
   "execution_count": 1,
   "id": "334d5fd4",
   "metadata": {},
   "outputs": [
    {
     "name": "stdout",
     "output_type": "stream",
     "text": [
      "Active environment: bci-master-thesis\n",
      "Correct environment: True\n"
     ]
    }
   ],
   "source": [
    "####################################################\n",
    "# CHECKING FOR RIGHT ANACONDA ENVIRONMENT\n",
    "####################################################\n",
    "\n",
    "import os\n",
    "print(\"Active environment: \"+ os.environ['CONDA_DEFAULT_ENV'])\n",
    "print(\"Correct environment: \" + str(os.environ['CONDA_DEFAULT_ENV'] == \"bci-master-thesis\"))"
   ]
  },
  {
   "cell_type": "markdown",
   "id": "22166668",
   "metadata": {},
   "source": [
    "<hr>\n",
    "\n",
    "### Correct module access\n",
    "\n",
    "The following codeblock will load in all required modules."
   ]
  },
  {
   "cell_type": "code",
   "execution_count": 2,
   "id": "ab632204",
   "metadata": {},
   "outputs": [
    {
     "name": "stdout",
     "output_type": "stream",
     "text": [
      "MNE version (1.0.2 recommended): 1.0.2\n",
      "Numpy version (1.21.5 recommended): 1.21.5\n",
      "Matplotlib version (3.5.1 recommended): 3.5.1\n"
     ]
    }
   ],
   "source": [
    "####################################################\n",
    "# LOADING MODULES\n",
    "####################################################\n",
    "\n",
    "# Load util function file\n",
    "import sys\n",
    "sys.path.append('../utils')\n",
    "import CLA_dataset\n",
    "\n",
    "# Modules tailored for EEG data\n",
    "import mne; print(f\"MNE version (1.0.2 recommended): {mne.__version__}\")\n",
    "\n",
    "# Data manipulation modules\n",
    "import numpy as np; print(f\"Numpy version (1.21.5 recommended): {np.__version__}\")\n",
    "\n",
    "# Plotting\n",
    "import matplotlib; print(f\"Matplotlib version (3.5.1 recommended): {matplotlib.__version__}\")\n",
    "import matplotlib.pyplot as plt"
   ]
  },
  {
   "cell_type": "markdown",
   "id": "813bb5de",
   "metadata": {},
   "source": [
    "<hr>\n",
    "\n",
    "### Correct file access\n",
    "\n",
    "As mentioned, this experimental notebook uses a database provided by [Kaya et al](https://doi.org/10.1038/sdata.2018.211). The CLA dataset in particular. Instructions on where to get the data are available on [the GitHub repository of the BCI master thesis project](https://www.github.com/pikawika/bci-master-thesis). These instructions are under `bci-master-thesis/code/data/CLA/README.md`."
   ]
  },
  {
   "cell_type": "code",
   "execution_count": 3,
   "id": "caa1d182",
   "metadata": {},
   "outputs": [
    {
     "name": "stdout",
     "output_type": "stream",
     "text": [
      "Full Matlab CLA file access: True\n",
      "Full MNE CLA file access: True\n"
     ]
    }
   ],
   "source": [
    "####################################################\n",
    "# CHECKING FILE ACCESS\n",
    "####################################################\n",
    "\n",
    "# Use util to determine if we have access\n",
    "print(\"Full Matlab CLA file access: \" + str(CLA_dataset.check_matlab_files_availability()))\n",
    "print(\"Full MNE CLA file access: \" + str(CLA_dataset.check_mne_files_availability()))"
   ]
  },
  {
   "cell_type": "markdown",
   "id": "43a71dde",
   "metadata": {},
   "source": [
    "<hr><hr>\n",
    "\n",
    "## Loading in data\n",
    "\n",
    "In this step, we load in the data. The data is provided as `.mat` files and thus originally meant for use with MATLAB. However, thanks to the written `CLA_dataset` util file we can easily get the MNE raw data from it.\n",
    "\n",
    "Please specify the filename in the below codeblock. For more info on which variants are available, please look at the `bci-master-thesis/code/data/CLA/README.md` file.\n",
    "\n",
    "Remember the meaning of the markers:\n",
    "- 0: “blank” or nothing is displayed in eGUI\n",
    "    - Can be seen as a break between stimuli, thus random EEG data that should probably be ignored\n",
    "- 1: Left hand action\n",
    "    - EEG data for MI of the left hand\n",
    "- 2: Right hand action\n",
    "    - EEG data for MI of the right hand\n",
    "- 3: Passive/neutral\n",
    "    - EEG data for MI of neither left nor right hand but 'focused'"
   ]
  },
  {
   "cell_type": "code",
   "execution_count": 4,
   "id": "399f5c6e",
   "metadata": {},
   "outputs": [],
   "source": [
    "####################################################\n",
    "# CHOOSING DATA RECORD\n",
    "####################################################\n",
    "\n",
    "# You can specify the data file to use here, per default it is CLASubjectA1601083StLRHand\n",
    "data_file_name = \"CLASubjectA1601083StLRHand\""
   ]
  },
  {
   "cell_type": "code",
   "execution_count": 5,
   "id": "ba2b500a",
   "metadata": {
    "scrolled": false
   },
   "outputs": [
    {
     "name": "stdout",
     "output_type": "stream",
     "text": [
      "Markers present: {0: 476168, 1: 61490, 2: 69202, 3: 64740}\n"
     ]
    },
    {
     "data": {
      "image/png": "[encoded data removed]",
      "text/plain": [
       "<Figure size 432x288 with 1 Axes>"
      ]
     },
     "metadata": {},
     "output_type": "display_data"
    }
   ],
   "source": [
    "####################################################\n",
    "# MARKERS DATA DISTRIBUTION\n",
    "####################################################\n",
    "\n",
    "# Save the markers from the raw matlab data\n",
    "data_markers = CLA_dataset.get_raw_matlab_data(data_file_name).marker\n",
    "\n",
    "# Show labels overview\n",
    "unique, counts = np.unique(data_markers, return_counts=True)\n",
    "count_dict = dict(zip(unique, counts))\n",
    "print(\"Markers present: \" + str(count_dict))\n",
    "\n",
    "# Make pie chart out of data\n",
    "labels = 'Break', 'Left', 'Right', 'Neutral'\n",
    "sizes = [count_dict[0], count_dict[1], count_dict[2], count_dict[3]]\n",
    "\n",
    "fig, ax = plt.subplots()\n",
    "ax.pie(sizes, labels=labels, autopct='%1.1f%%',\n",
    "        shadow=True, startangle=90)\n",
    "ax.axis('equal')\n",
    "plt.title(\"Data distribution of EEG MI experiment\")\n",
    "plt.show()\n",
    "\n",
    "# Cleaning up redundant variables from this codeblock\n",
    "del unique\n",
    "del counts\n",
    "del fig\n",
    "del ax\n",
    "del count_dict\n",
    "del labels\n",
    "del sizes"
   ]
  },
  {
   "cell_type": "code",
   "execution_count": 6,
   "id": "454d21ca",
   "metadata": {},
   "outputs": [
    {
     "name": "stdout",
     "output_type": "stream",
     "text": [
      "Opening raw data file ../data/CLA/CLASubjectA1601083StLRHand_raw.fif...\n",
      "    Range : 0 ... 671599 =      0.000 ...  3357.995 secs\n",
      "Ready.\n"
     ]
    },
    {
     "data": {
      "text/html": [
       "<table class=\"table table-hover table-striped table-sm table-responsive small\">\n",
       "    <tr>\n",
       "        <th>Measurement date</th>\n",
       "        \n",
       "        <td>January 08, 2016  00:00:00 GMT</td>\n",
       "        \n",
       "    </tr>\n",
       "    <tr>\n",
       "        <th>Experimenter</th>\n",
       "        \n",
       "        <td>Kaya et al.</td>\n",
       "        \n",
       "    </tr>\n",
       "        <th>Participant</th>\n",
       "        \n",
       "            \n",
       "            <td>A</td>\n",
       "            \n",
       "        \n",
       "    </tr>\n",
       "    <tr>\n",
       "        <th>Digitized points</th>\n",
       "        \n",
       "        <td>0 points</td>\n",
       "        \n",
       "    </tr>\n",
       "    <tr>\n",
       "        <th>Good channels</th>\n",
       "        <td>21 EEG</td>\n",
       "    </tr>\n",
       "    <tr>\n",
       "        <th>Bad channels</th>\n",
       "        <td>None</td>\n",
       "    </tr>\n",
       "    <tr>\n",
       "        <th>EOG channels</th>\n",
       "        <td>Not available</td>\n",
       "    </tr>\n",
       "    <tr>\n",
       "        <th>ECG channels</th>\n",
       "        <td>Not available</td>\n",
       "    \n",
       "    <tr>\n",
       "        <th>Sampling frequency</th>\n",
       "        <td>200.00 Hz</td>\n",
       "    </tr>\n",
       "    \n",
       "    \n",
       "    <tr>\n",
       "        <th>Highpass</th>\n",
       "        <td>0.00 Hz</td>\n",
       "    </tr>\n",
       "    \n",
       "    \n",
       "    <tr>\n",
       "        <th>Lowpass</th>\n",
       "        <td>100.00 Hz</td>\n",
       "    </tr>\n",
       "    \n",
       "    \n",
       "</table>"
      ],
      "text/plain": [
       "<Info | 13 non-empty values\n",
       " bads: []\n",
       " ch_names: Fp1, Fp2, F3, F4, C3, C4, P3, P4, O1, O2, A1, A2, F7, F8, T3, ...\n",
       " chs: 21 EEG\n",
       " custom_ref_applied: False\n",
       " description: Data from ../data/CLA/CLASubjectA1601083StLRHand.mat | age 25| ...\n",
       " dig: 24 items (3 Cardinal, 21 EEG)\n",
       " experimenter: Kaya et al.\n",
       " file_id: 4 items (dict)\n",
       " highpass: 0.0 Hz\n",
       " lowpass: 100.0 Hz\n",
       " meas_date: 2016-01-08 00:00:00 UTC\n",
       " meas_id: 4 items (dict)\n",
       " nchan: 21\n",
       " projs: []\n",
       " sfreq: 200.0 Hz\n",
       " subject_info: 2 items (dict)\n",
       ">"
      ]
     },
     "execution_count": 6,
     "metadata": {},
     "output_type": "execute_result"
    }
   ],
   "source": [
    "####################################################\n",
    "# MEN DATA\n",
    "####################################################\n",
    "\n",
    "# Load in the file as MNE\n",
    "mne_raw = CLA_dataset.get_raw_mne_data(data_file_name)\n",
    "\n",
    "# Show the info\n",
    "mne_raw.info"
   ]
  },
  {
   "cell_type": "markdown",
   "id": "80d4e853",
   "metadata": {},
   "source": [
    "<hr><hr>\n",
    "\n",
    "## Finding important markers\n",
    "\n",
    "Since the data is one continuous stream of EEG data and we have the marker for each `hertz` / datapoint, it might be a good idea to note the indexes at which these markers change. This will give us an idea of where the data changes from stimulus to stimulus."
   ]
  },
  {
   "cell_type": "markdown",
   "id": "23b97888",
   "metadata": {},
   "source": [
    "### Loop for retreiving important markers\n",
    "\n",
    "The following loop will collect all important markers from the dataset."
   ]
  },
  {
   "cell_type": "code",
   "execution_count": 7,
   "id": "b4154ae3",
   "metadata": {},
   "outputs": [
    {
     "name": "stdout",
     "output_type": "stream",
     "text": [
      "First 5: [0 0 0 0 0]\n",
      "Marker size equal to number of time points: True\n"
     ]
    }
   ],
   "source": [
    "####################################################\n",
    "# VALIDATING CORRECT LOADING OF MARKERS\n",
    "####################################################\n",
    "\n",
    "print(\"First 5: \" + str(data_markers[:5]))\n",
    "\n",
    "print(\"Marker size equal to number of time points: \" + str(len(data_markers) == mne_raw.n_times))"
   ]
  },
  {
   "cell_type": "code",
   "execution_count": 8,
   "id": "76373b3b",
   "metadata": {},
   "outputs": [],
   "source": [
    "####################################################\n",
    "# MARKERS DATA DISTRIBUTION\n",
    "####################################################\n",
    "\n",
    "class ImportantMarker:\n",
    "    def __init__(self, mark, old_mark, start_idx, end_idx):\n",
    "        self.mark = mark\n",
    "        self.old_mark = old_mark\n",
    "        self.start_idx = start_idx\n",
    "        self.end_idx = end_idx"
   ]
  },
  {
   "cell_type": "code",
   "execution_count": 9,
   "id": "9962b1dc",
   "metadata": {},
   "outputs": [],
   "source": [
    "####################################################\n",
    "# DETERMINING IMPORTANT MARKERS\n",
    "####################################################\n",
    "\n",
    "# Initial values\n",
    "important_markers = []\n",
    "new_mark = old_mark = start_idx = end_indx = -1\n",
    "\n",
    "for idx, marker in enumerate(data_markers):\n",
    "    # Initial values\n",
    "    if (start_idx == -1):\n",
    "        start_idx = idx\n",
    "        new_mark = old_mark = marker\n",
    "        \n",
    "    # Change of marker\n",
    "    if (marker != new_mark):\n",
    "        # Save marker\n",
    "        end_indx = idx - 1\n",
    "        important_markers.append(ImportantMarker(new_mark, old_mark, start_idx, end_indx))\n",
    "        \n",
    "        # Start new marker\n",
    "        old_mark = new_mark\n",
    "        new_mark = marker\n",
    "        start_idx = idx\n",
    "        \n",
    "# End of loop, create last record if needed\n",
    "if (start_idx > end_indx):\n",
    "    # Save marker\n",
    "    end_indx = idx\n",
    "    important_markers.append(ImportantMarker(new_mark, old_mark, start_idx, end_indx))\n",
    "        \n",
    "# Cleaning up redundant variables from this codeblock\n",
    "del new_mark\n",
    "del old_mark\n",
    "del start_idx\n",
    "del end_indx\n",
    "del idx\n",
    "del marker"
   ]
  },
  {
   "cell_type": "markdown",
   "id": "8482ea1a",
   "metadata": {},
   "source": [
    "<hr>\n",
    "\n",
    "### Analysing important markers\n",
    "\n",
    "Below we perform some basic analysis on the data gathered from the important markers and try to validate they make sense."
   ]
  },
  {
   "cell_type": "code",
   "execution_count": 10,
   "id": "7d5914c4",
   "metadata": {},
   "outputs": [
    {
     "name": "stdout",
     "output_type": "stream",
     "text": [
      "Starting on 0 we changed from 0 to 0 Which lasted untill 37271\n",
      "Starting on 37272 we changed from 0 to 3 Which lasted untill 37474\n",
      "Starting on 37475 we changed from 3 to 0 Which lasted untill 37782\n",
      "Starting on 37783 we changed from 0 to 3 Which lasted untill 37985\n",
      "Starting on 37986 we changed from 3 to 0 Which lasted untill 38369\n",
      "\n",
      "\n",
      "... A total of 1921 important markers ...\n",
      "\n",
      "\n",
      "Starting on 667619 we changed from 3 to 0 Which lasted untill 667936\n",
      "Starting on 667937 we changed from 0 to 2 Which lasted untill 668139\n",
      "Starting on 668140 we changed from 2 to 0 Which lasted untill 668444\n",
      "Starting on 668445 we changed from 0 to 3 Which lasted untill 668647\n",
      "Starting on 668648 we changed from 3 to 0 Which lasted untill 671599\n",
      "\n",
      "\n",
      "Important markers distribution: {0: 961, 1: 302, 2: 340, 3: 318}\n",
      "\n",
      "\n",
      "Time that a marker is shown, an action (mark 1, 2 or 3) should be 1 second, the short pause (mark 0) anywhere between 1.5-2.5 seconds\n",
      "Time that marker 0 is shown: 2.015 sec\n",
      "Time that marker 1 is shown: 1.01 sec\n",
      "Time that marker 0 is shown: 2.465 sec\n",
      "Time that marker 2 is shown: 1.01 sec\n",
      "Time that marker 0 is shown: 1.535 sec\n",
      "Time that marker 3 is shown: 1.01 sec\n"
     ]
    }
   ],
   "source": [
    "####################################################\n",
    "# VIEWING IMPORTANT MARKERS\n",
    "####################################################\n",
    "\n",
    "# View first 5\n",
    "for important_marker in important_markers[:5]:\n",
    "    print(f\"Starting on {important_marker.start_idx} we changed from {important_marker.old_mark} to {important_marker.mark} Which lasted untill {important_marker.end_idx}\")\n",
    "    \n",
    "print(f\"\\n\\n... A total of {len(important_markers)} important markers ...\\n\\n\")\n",
    "\n",
    "# View last 5\n",
    "for important_marker in important_markers[-5:]:\n",
    "    print(f\"Starting on {important_marker.start_idx} we changed from {important_marker.old_mark} to {important_marker.mark} Which lasted untill {important_marker.end_idx}\")\n",
    "    \n",
    "# Show labels overview\n",
    "unique, counts = np.unique([important_marker.mark for important_marker in important_markers], return_counts=True)\n",
    "count_dict = dict(zip(unique, counts))\n",
    "print(\"\\n\\nImportant markers distribution: \" + str(count_dict))\n",
    "\n",
    "# Determine time between marks\n",
    "print(\"\\n\\nTime that a marker is shown, an action (mark 1, 2 or 3) should be 1 second, the short pause (mark 0) anywhere between 1.5-2.5 seconds\")\n",
    "print(f\"Time that marker {important_markers[200].mark} is shown: {(important_markers[200].end_idx - important_markers[200].start_idx)/ mne_raw.info['sfreq']} sec\")\n",
    "print(f\"Time that marker {important_markers[201].mark} is shown: {(important_markers[201].end_idx - important_markers[201].start_idx)/ mne_raw.info['sfreq']} sec\")\n",
    "print(f\"Time that marker {important_markers[202].mark} is shown: {(important_markers[202].end_idx - important_markers[202].start_idx)/ mne_raw.info['sfreq']} sec\")\n",
    "print(f\"Time that marker {important_markers[203].mark} is shown: {(important_markers[203].end_idx - important_markers[203].start_idx)/ mne_raw.info['sfreq']} sec\")\n",
    "print(f\"Time that marker {important_markers[204].mark} is shown: {(important_markers[204].end_idx - important_markers[204].start_idx)/ mne_raw.info['sfreq']} sec\")\n",
    "print(f\"Time that marker {important_markers[205].mark} is shown: {(important_markers[205].end_idx - important_markers[205].start_idx)/ mne_raw.info['sfreq']} sec\")\n",
    "\n",
    "# Delete unusued variables\n",
    "del count_dict\n",
    "del counts\n",
    "del unique\n",
    "del important_marker"
   ]
  },
  {
   "cell_type": "markdown",
   "id": "d025214d",
   "metadata": {},
   "source": [
    "<hr>\n",
    "\n",
    "### Plotting important markers\n",
    "\n",
    "When plotting the evolution of these important markers it becomes clear that the stimulus is shown for 1 second (200 Hz) and the screen is blank for about 1.5 seconds (300 Hz)."
   ]
  },
  {
   "cell_type": "code",
   "execution_count": 11,
   "id": "a2551862",
   "metadata": {},
   "outputs": [
    {
     "data": {
      "image/png": "[encoded data removed]",
      "text/plain": [
       "<Figure size 648x216 with 1 Axes>"
      ]
     },
     "metadata": {
      "needs_background": "light"
     },
     "output_type": "display_data"
    }
   ],
   "source": [
    "####################################################\n",
    "# PLOTTING IMPORTANT MARKERS\n",
    "####################################################\n",
    "\n",
    "# Open plot inline\n",
    "%matplotlib inline\n",
    "\n",
    "# Data for plotting\n",
    "subset_important_markers = important_markers[50:75]\n",
    "\n",
    "# Setup canvas\n",
    "plt.rcParams[\"figure.figsize\"] = (9,3)\n",
    "\n",
    "# Plotting code\n",
    "x = sum([[x.start_idx, x.end_idx] for x in subset_important_markers], [])\n",
    "y = sum([[y.mark, y.mark] for y in subset_important_markers], [])\n",
    "\n",
    "fig, ax = plt.subplots()\n",
    "ax.plot(x, y)\n",
    "\n",
    "ax.set(xlabel='timestep (Hz)', ylabel='Marker',\n",
    "       title='Evolution of marker over time')\n",
    "\n",
    "# Only show every 1 in 2 x points\n",
    "plt.xticks(x[1::2])\n",
    "plt.yticks([0, 1, 2, 3])\n",
    "plt.setp(ax.get_xticklabels(), rotation=90, horizontalalignment='right')\n",
    "\n",
    "plt.show()\n",
    " \n",
    "# Cleaning up redundant variables from this codeblock\n",
    "del subset_important_markers\n",
    "del fig\n",
    "del ax\n",
    "del x\n",
    "del y\n",
    "\n",
    "# Reset canvas\n",
    "plt.rcParams.update(plt.rcParamsDefault)"
   ]
  },
  {
   "cell_type": "markdown",
   "id": "a0c6cb50",
   "metadata": {},
   "source": [
    "<hr><hr>\n",
    "\n",
    "## Plotting raw EEG data with MNE\n",
    "\n",
    "Now that we have the `EMG RawArray object` and know the timestep of marker changes we can start making some interesting MNE plots. We will try this in what follows. We followed the [MNE documentation tutorials for this](https://mne.tools/dev/auto_tutorials/intro/10_overview.html). We note that the base data in the raw object stores the EEG in volts, not microvolts as originally in the matlab CLA dataset. The conversion to volt was done by multuplying with $10e^{-6}$"
   ]
  },
  {
   "cell_type": "code",
   "execution_count": 14,
   "id": "fe1f65fb",
   "metadata": {
    "scrolled": false
   },
   "outputs": [
    {
     "name": "stdout",
     "output_type": "stream",
     "text": [
      "Effective window size : 10.240 (s)\n",
      "Opening raw-browser...\n",
      "plotting done\n"
     ]
    }
   ],
   "source": [
    "####################################################\n",
    "# PLOTTING MNE DATA\n",
    "####################################################\n",
    "\n",
    "# Plot inline or in popup\n",
    "# %matplotlib inline\n",
    "%matplotlib qt \n",
    "\n",
    "# Show some plots\n",
    "mne_raw.plot_psd(fmax=50)\n",
    "mne_raw.plot(duration=5, n_channels=30)\n",
    "\n",
    "print(\"plotting done\")"
   ]
  },
  {
   "cell_type": "code",
   "execution_count": null,
   "id": "25ed4f66",
   "metadata": {},
   "outputs": [],
   "source": []
  }
 ],
 "metadata": {
  "kernelspec": {
   "display_name": "Python 3 (ipykernel)",
   "language": "python",
   "name": "python3"
  },
  "language_info": {
   "codemirror_mode": {
    "name": "ipython",
    "version": 3
   },
   "file_extension": ".py",
   "mimetype": "text/x-python",
   "name": "python",
   "nbconvert_exporter": "python",
   "pygments_lexer": "ipython3",
   "version": "3.8.10"
  }
 },
 "nbformat": 4,
 "nbformat_minor": 5
}
